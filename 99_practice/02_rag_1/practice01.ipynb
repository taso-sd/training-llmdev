{
 "cells": [
  {
   "cell_type": "code",
   "execution_count": 13,
   "id": "8d334a8b",
   "metadata": {},
   "outputs": [],
   "source": [
    "# 必要なモジュールをインポート\n",
    "import os\n",
    "from dotenv import load_dotenv\n",
    "from llama_index.core import Settings, VectorStoreIndex, SimpleDirectoryReader\n",
    "from llama_index.core.node_parser import SentenceSplitter\n",
    "from llama_index.llms.openai import OpenAI\n",
    "from llama_index.embeddings.openai import OpenAIEmbedding\n",
    "\n",
    "# 環境変数の取得\n",
    "load_dotenv(\"../.env\")\n",
    "os.environ['OPENAI_API_KEY']  = os.environ['API_KEY']\n",
    "\n",
    "# モデル名\n",
    "MODEL_NAME = \"gpt-4o-mini\""
   ]
  },
  {
   "cell_type": "code",
   "execution_count": 17,
   "id": "070ecb1e",
   "metadata": {},
   "outputs": [],
   "source": [
    "Settings.llm = OpenAI(model=MODEL_NAME)\n",
    "Settings.embed_model = OpenAIEmbedding(model=\"text-embedding-3-small\")\n",
    "\n",
    "splitter = SentenceSplitter(chunk_size=800, chunk_overlap=120)\n",
    "\n",
    "documents = SimpleDirectoryReader('./data').load_data()\n",
    "nodes = splitter.get_nodes_from_documents(documents)\n",
    "index = VectorStoreIndex(nodes)"
   ]
  },
  {
   "cell_type": "code",
   "execution_count": 18,
   "id": "f30d814e",
   "metadata": {},
   "outputs": [],
   "source": [
    "chat_engine = index.as_chat_engine(\n",
    "    chat_mode=\"condense_question\",\n",
    "    llm=Settings.llm,\n",
    "    similarity_top_k=8,\n",
    "    verbose=True)"
   ]
  },
  {
   "cell_type": "code",
   "execution_count": 19,
   "id": "455d0e81",
   "metadata": {},
   "outputs": [
    {
     "name": "stdout",
     "output_type": "stream",
     "text": [
      "Querying with: 遅延損害金の規定について教えて下さい\n",
      "遅延損害金に関する規定では、会員がカードキャッシングやカードショッピングの支払金を遅延した場合、支払日の翌日から支払済の日に至るまで、未払債務に対して年率14.6%の遅延損害金が適用されます。また、期限の利益を喪失した場合には、期限の利益喪失の日から完済の日に至るまで、残金全額に対して法定利率または年率14.6%が適用されます。遅延損害金は次回以降の利用代金や手数料、利息と合算して請求されることがあります。\n"
     ]
    }
   ],
   "source": [
    "response = chat_engine.chat(\"遅延損害金の規定について教えて下さい\")\n",
    "\n",
    "print(response)"
   ]
  },
  {
   "cell_type": "code",
   "execution_count": 20,
   "id": "efc17410",
   "metadata": {},
   "outputs": [
    {
     "name": "stdout",
     "output_type": "stream",
     "text": [
      "Querying with: 年会費はいくらですか？\n",
      "年会費は11,000円（税込）です。\n"
     ]
    }
   ],
   "source": [
    "response = chat_engine.chat(\"年会費はいくらかかりますか？\")\n",
    "\n",
    "print(response)"
   ]
  },
  {
   "cell_type": "code",
   "execution_count": 22,
   "id": "b0c21385",
   "metadata": {},
   "outputs": [
    {
     "name": "stdout",
     "output_type": "stream",
     "text": [
      "Querying with: カードの種類によって年会費は異なりますか？具体的な情報を教えてください。\n",
      "年会費は本ゴールドカード会員に対して11,000円（税込）と定められています。この年会費は、会員の都合による解約や退会、または当社の判断によるカードの利用停止や会員資格の取消しに関わらず返還されません。具体的な情報として、他のカードの年会費については記載がないため、異なるカードの年会費があるかどうかは不明です。\n"
     ]
    }
   ],
   "source": [
    "response = chat_engine.chat(\"カードの種類はありますか？それによって年会費が変わったりしますか？\")\n",
    "\n",
    "print(response)"
   ]
  }
 ],
 "metadata": {
  "kernelspec": {
   "display_name": ".venv",
   "language": "python",
   "name": "python3"
  },
  "language_info": {
   "codemirror_mode": {
    "name": "ipython",
    "version": 3
   },
   "file_extension": ".py",
   "mimetype": "text/x-python",
   "name": "python",
   "nbconvert_exporter": "python",
   "pygments_lexer": "ipython3",
   "version": "3.12.10"
  }
 },
 "nbformat": 4,
 "nbformat_minor": 5
}
