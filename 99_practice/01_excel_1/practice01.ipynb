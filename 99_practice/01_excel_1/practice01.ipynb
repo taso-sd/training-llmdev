{
 "cells": [
  {
   "cell_type": "code",
   "execution_count": 1,
   "id": "180026e8",
   "metadata": {},
   "outputs": [],
   "source": [
    "import os\n",
    "from dotenv import load_dotenv\n",
    "from openai import OpenAI\n",
    "import pandas as pd\n",
    "\n",
    "load_dotenv()\n",
    "\n",
    "client = OpenAI(api_key=os.environ['API_KEY'])\n",
    "\n",
    "MODEL_NAME = \"gpt-4o-mini\""
   ]
  },
  {
   "cell_type": "code",
   "execution_count": 2,
   "id": "8845cb32",
   "metadata": {},
   "outputs": [
    {
     "data": {
      "text/html": [
       "<div>\n",
       "<style scoped>\n",
       "    .dataframe tbody tr th:only-of-type {\n",
       "        vertical-align: middle;\n",
       "    }\n",
       "\n",
       "    .dataframe tbody tr th {\n",
       "        vertical-align: top;\n",
       "    }\n",
       "\n",
       "    .dataframe thead th {\n",
       "        text-align: right;\n",
       "    }\n",
       "</style>\n",
       "<table border=\"1\" class=\"dataframe\">\n",
       "  <thead>\n",
       "    <tr style=\"text-align: right;\">\n",
       "      <th></th>\n",
       "      <th>Date</th>\n",
       "      <th>Product</th>\n",
       "      <th>Region</th>\n",
       "      <th>Quantity</th>\n",
       "      <th>UnitPrice</th>\n",
       "      <th>Sales</th>\n",
       "    </tr>\n",
       "  </thead>\n",
       "  <tbody>\n",
       "    <tr>\n",
       "      <th>0</th>\n",
       "      <td>2024-04-12</td>\n",
       "      <td>Tablet</td>\n",
       "      <td>North</td>\n",
       "      <td>5</td>\n",
       "      <td>870</td>\n",
       "      <td>4350</td>\n",
       "    </tr>\n",
       "    <tr>\n",
       "      <th>1</th>\n",
       "      <td>2024-06-28</td>\n",
       "      <td>PC</td>\n",
       "      <td>East</td>\n",
       "      <td>4</td>\n",
       "      <td>536</td>\n",
       "      <td>2144</td>\n",
       "    </tr>\n",
       "    <tr>\n",
       "      <th>2</th>\n",
       "      <td>2024-04-02</td>\n",
       "      <td>Accessory</td>\n",
       "      <td>South</td>\n",
       "      <td>8</td>\n",
       "      <td>122</td>\n",
       "      <td>976</td>\n",
       "    </tr>\n",
       "    <tr>\n",
       "      <th>3</th>\n",
       "      <td>2024-01-15</td>\n",
       "      <td>Tablet</td>\n",
       "      <td>North</td>\n",
       "      <td>7</td>\n",
       "      <td>664</td>\n",
       "      <td>4648</td>\n",
       "    </tr>\n",
       "    <tr>\n",
       "      <th>4</th>\n",
       "      <td>2024-04-16</td>\n",
       "      <td>Accessory</td>\n",
       "      <td>South</td>\n",
       "      <td>2</td>\n",
       "      <td>776</td>\n",
       "      <td>1552</td>\n",
       "    </tr>\n",
       "  </tbody>\n",
       "</table>\n",
       "</div>"
      ],
      "text/plain": [
       "        Date    Product Region  Quantity  UnitPrice  Sales\n",
       "0 2024-04-12     Tablet  North         5        870   4350\n",
       "1 2024-06-28         PC   East         4        536   2144\n",
       "2 2024-04-02  Accessory  South         8        122    976\n",
       "3 2024-01-15     Tablet  North         7        664   4648\n",
       "4 2024-04-16  Accessory  South         2        776   1552"
      ]
     },
     "execution_count": 2,
     "metadata": {},
     "output_type": "execute_result"
    }
   ],
   "source": [
    "df = pd.read_excel('sample01.xlsx', sheet_name='Sheet1')\n",
    "df.head()"
   ]
  },
  {
   "cell_type": "code",
   "execution_count": 3,
   "id": "32145a6f",
   "metadata": {},
   "outputs": [
    {
     "data": {
      "text/plain": [
       "pandas.core.frame.DataFrame"
      ]
     },
     "execution_count": 3,
     "metadata": {},
     "output_type": "execute_result"
    }
   ],
   "source": [
    "data_text = df.astype(str)\n",
    "type(df)"
   ]
  },
  {
   "cell_type": "code",
   "execution_count": 4,
   "id": "aca06d42",
   "metadata": {},
   "outputs": [
    {
     "data": {
      "text/html": [
       "<div>\n",
       "<style scoped>\n",
       "    .dataframe tbody tr th:only-of-type {\n",
       "        vertical-align: middle;\n",
       "    }\n",
       "\n",
       "    .dataframe tbody tr th {\n",
       "        vertical-align: top;\n",
       "    }\n",
       "\n",
       "    .dataframe thead th {\n",
       "        text-align: right;\n",
       "    }\n",
       "</style>\n",
       "<table border=\"1\" class=\"dataframe\">\n",
       "  <thead>\n",
       "    <tr style=\"text-align: right;\">\n",
       "      <th></th>\n",
       "      <th>Region</th>\n",
       "      <th>Product</th>\n",
       "      <th>Sales</th>\n",
       "    </tr>\n",
       "  </thead>\n",
       "  <tbody>\n",
       "    <tr>\n",
       "      <th>0</th>\n",
       "      <td>East</td>\n",
       "      <td>Accessory</td>\n",
       "      <td>2228</td>\n",
       "    </tr>\n",
       "    <tr>\n",
       "      <th>1</th>\n",
       "      <td>North</td>\n",
       "      <td>Tablet</td>\n",
       "      <td>8998</td>\n",
       "    </tr>\n",
       "    <tr>\n",
       "      <th>2</th>\n",
       "      <td>South</td>\n",
       "      <td>Accessory</td>\n",
       "      <td>2528</td>\n",
       "    </tr>\n",
       "    <tr>\n",
       "      <th>3</th>\n",
       "      <td>West</td>\n",
       "      <td>Phone</td>\n",
       "      <td>2008</td>\n",
       "    </tr>\n",
       "  </tbody>\n",
       "</table>\n",
       "</div>"
      ],
      "text/plain": [
       "  Region    Product  Sales\n",
       "0   East  Accessory   2228\n",
       "1  North     Tablet   8998\n",
       "2  South  Accessory   2528\n",
       "3   West      Phone   2008"
      ]
     },
     "execution_count": 4,
     "metadata": {},
     "output_type": "execute_result"
    }
   ],
   "source": [
    "df[\"Month\"] = df[\"Date\"].dt.to_period(\"M\").dt.to_timestamp()\n",
    "monthly_sales = df.groupby(\"Month\", as_index=False)[\"Sales\"].sum()\n",
    "df[\"Day\"] = df[\"Date\"].dt.to_period(\"D\").dt.to_timestamp()\n",
    "daily_sales = df.groupby(\"Day\", as_index=False)[\"Sales\"].sum()\n",
    "df[\"Week\"] = df[\"Date\"].dt.to_period(\"W\").dt.to_timestamp()\n",
    "weekly_sales = df.groupby(\"Week\", as_index=False)[\"Sales\"].sum()\n",
    "avg_unitprice_by_product = df.groupby(\"Product\", as_index=False)[\"UnitPrice\"].mean()\n",
    "\n",
    "region_product_sales = df.groupby([\"Region\", \"Product\"], as_index=False)[\"Sales\"].sum()\n",
    "idx = region_product_sales.groupby(\"Region\")[\"Sales\"].idxmax()\n",
    "top_product_by_region = region_product_sales.loc[idx].reset_index(drop=True) \n",
    "top_product_by_region\n"
   ]
  },
  {
   "cell_type": "code",
   "execution_count": 5,
   "id": "09c7a73c",
   "metadata": {},
   "outputs": [
    {
     "data": {
      "text/plain": [
       "{'monthly_sales': [{'Month': Timestamp('2024-01-01 00:00:00'), 'Sales': 6876},\n",
       "  {'Month': Timestamp('2024-03-01 00:00:00'), 'Sales': 1365},\n",
       "  {'Month': Timestamp('2024-04-01 00:00:00'), 'Sales': 8334},\n",
       "  {'Month': Timestamp('2024-05-01 00:00:00'), 'Sales': 488},\n",
       "  {'Month': Timestamp('2024-06-01 00:00:00'), 'Sales': 2144}],\n",
       " 'avg_unitprice_by_product': [{'Product': 'Accessory', 'UnitPrice': 424.75},\n",
       "  {'Product': 'PC', 'UnitPrice': 536.0},\n",
       "  {'Product': 'Phone', 'UnitPrice': 183.0},\n",
       "  {'Product': 'Tablet', 'UnitPrice': 782.3333333333334}],\n",
       " 'top_product_by_region': [{'Region': 'East',\n",
       "   'Product': 'Accessory',\n",
       "   'Sales': 2228},\n",
       "  {'Region': 'North', 'Product': 'Tablet', 'Sales': 8998},\n",
       "  {'Region': 'South', 'Product': 'Accessory', 'Sales': 2528},\n",
       "  {'Region': 'West', 'Product': 'Phone', 'Sales': 2008}]}"
      ]
     },
     "execution_count": 5,
     "metadata": {},
     "output_type": "execute_result"
    }
   ],
   "source": [
    "context = {\n",
    "    \"monthly_sales\": monthly_sales.to_dict(orient=\"records\"),\n",
    "    \"avg_unitprice_by_product\": avg_unitprice_by_product.to_dict(orient=\"records\"),\n",
    "    \"top_product_by_region\": top_product_by_region.to_dict(orient=\"records\"),\n",
    "}\n",
    "\n",
    "context"
   ]
  },
  {
   "cell_type": "code",
   "execution_count": 6,
   "id": "4dad1f7b",
   "metadata": {},
   "outputs": [],
   "source": [
    "prompt_text = f\"\"\"\n",
    "以下は売上データの集計結果です:\n",
    "{context}\n",
    "\n",
    "これをもとに全体の傾向を3点だけ日本語で要約してください。\n",
    "出力はJSON形式で: {{\"analysis\": [\"...\", \"...\", \"...\"]}}\n",
    "\"\"\"\n",
    "\n",
    "# 役割を設定\n",
    "role = \"あなたはマーケティング分野に精通したデータサイエンティストです。企業の成長をサポートするために、効果的なインサイトを提供します。\"\n",
    "\n",
    "# APIへリクエスト\n",
    "response = client.chat.completions.create(\n",
    "    model=MODEL_NAME,\n",
    "    messages=[\n",
    "        {\"role\": \"system\", \"content\": role},\n",
    "        {\"role\": \"user\", \"content\": prompt_text},\n",
    "    ],\n",
    ")\n",
    "\n",
    "# 結果を取得\n",
    "result = response.choices[0].message.content.strip()\n"
   ]
  },
  {
   "cell_type": "code",
   "execution_count": 10,
   "id": "344ecc41",
   "metadata": {},
   "outputs": [
    {
     "data": {
      "text/plain": [
       "'{\"analysis\": [\"2024年の月別売上は1月に高い数字を記録し、他の月と比較して大きなバラツキが見られる。\", \"製品別の平均単価では、タブレットが最も高価で、次いでPCとアクセサリーが続く。\", \"地域別の売上では、北部地区でタブレットが最も売上が高く、南部地域ではアクセサリーが人気を集めている。\"]}'"
      ]
     },
     "execution_count": 10,
     "metadata": {},
     "output_type": "execute_result"
    }
   ],
   "source": [
    "result\n"
   ]
  },
  {
   "cell_type": "code",
   "execution_count": 11,
   "id": "a844fa6c",
   "metadata": {},
   "outputs": [],
   "source": [
    "import json\n",
    "\n",
    "# ① JSON文字列 → dict に変換\n",
    "payload = json.loads(result)  # <= ここが重要\n",
    "\n",
    "# ② analysis を DataFrame に\n",
    "analysis_list = payload.get(\"analysis\", [])\n",
    "df_analysis = pd.DataFrame({\"Analysis\": analysis_list})\n",
    "\n",
    "with pd.ExcelWriter(\"output.xlsx\") as writer:\n",
    "    monthly_sales.to_excel(writer, sheet_name=\"MonthlySales\", index=False)\n",
    "    avg_unitprice_by_product.to_excel(writer, sheet_name=\"AvgUnitPriceByProduct\", index=False)\n",
    "    top_product_by_region.to_excel(writer, sheet_name=\"TopProductByRegion\", index=False)\n",
    "    df_analysis.to_excel(writer, sheet_name=\"Analysis\", index=False)"
   ]
  }
 ],
 "metadata": {
  "kernelspec": {
   "display_name": ".venv",
   "language": "python",
   "name": "python3"
  },
  "language_info": {
   "codemirror_mode": {
    "name": "ipython",
    "version": 3
   },
   "file_extension": ".py",
   "mimetype": "text/x-python",
   "name": "python",
   "nbconvert_exporter": "python",
   "pygments_lexer": "ipython3",
   "version": "3.12.10"
  }
 },
 "nbformat": 4,
 "nbformat_minor": 5
}
