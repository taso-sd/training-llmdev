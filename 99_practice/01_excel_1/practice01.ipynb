{
 "cells": [
  {
   "cell_type": "code",
   "execution_count": 5,
   "id": "180026e8",
   "metadata": {},
   "outputs": [],
   "source": [
    "import os\n",
    "from dotenv import load_dotenv\n",
    "from openai import OpenAI\n",
    "import pandas as pd\n",
    "\n",
    "load_dotenv()\n",
    "\n",
    "client = OpenAI(api_key=os.environ['API_KEY'])\n",
    "\n",
    "MODEL_NAME = \"gpt-4o-mini\""
   ]
  },
  {
   "cell_type": "code",
   "execution_count": 6,
   "id": "8845cb32",
   "metadata": {},
   "outputs": [
    {
     "data": {
      "text/html": [
       "<div>\n",
       "<style scoped>\n",
       "    .dataframe tbody tr th:only-of-type {\n",
       "        vertical-align: middle;\n",
       "    }\n",
       "\n",
       "    .dataframe tbody tr th {\n",
       "        vertical-align: top;\n",
       "    }\n",
       "\n",
       "    .dataframe thead th {\n",
       "        text-align: right;\n",
       "    }\n",
       "</style>\n",
       "<table border=\"1\" class=\"dataframe\">\n",
       "  <thead>\n",
       "    <tr style=\"text-align: right;\">\n",
       "      <th></th>\n",
       "      <th>Date</th>\n",
       "      <th>Product</th>\n",
       "      <th>Region</th>\n",
       "      <th>Quantity</th>\n",
       "      <th>UnitPrice</th>\n",
       "      <th>Sales</th>\n",
       "    </tr>\n",
       "  </thead>\n",
       "  <tbody>\n",
       "    <tr>\n",
       "      <th>0</th>\n",
       "      <td>2024-04-12</td>\n",
       "      <td>Tablet</td>\n",
       "      <td>North</td>\n",
       "      <td>5</td>\n",
       "      <td>870</td>\n",
       "      <td>4350</td>\n",
       "    </tr>\n",
       "    <tr>\n",
       "      <th>1</th>\n",
       "      <td>2024-06-28</td>\n",
       "      <td>PC</td>\n",
       "      <td>East</td>\n",
       "      <td>4</td>\n",
       "      <td>536</td>\n",
       "      <td>2144</td>\n",
       "    </tr>\n",
       "    <tr>\n",
       "      <th>2</th>\n",
       "      <td>2024-04-02</td>\n",
       "      <td>Accessory</td>\n",
       "      <td>South</td>\n",
       "      <td>8</td>\n",
       "      <td>122</td>\n",
       "      <td>976</td>\n",
       "    </tr>\n",
       "    <tr>\n",
       "      <th>3</th>\n",
       "      <td>2024-01-15</td>\n",
       "      <td>Tablet</td>\n",
       "      <td>North</td>\n",
       "      <td>7</td>\n",
       "      <td>664</td>\n",
       "      <td>4648</td>\n",
       "    </tr>\n",
       "    <tr>\n",
       "      <th>4</th>\n",
       "      <td>2024-04-16</td>\n",
       "      <td>Accessory</td>\n",
       "      <td>South</td>\n",
       "      <td>2</td>\n",
       "      <td>776</td>\n",
       "      <td>1552</td>\n",
       "    </tr>\n",
       "  </tbody>\n",
       "</table>\n",
       "</div>"
      ],
      "text/plain": [
       "        Date    Product Region  Quantity  UnitPrice  Sales\n",
       "0 2024-04-12     Tablet  North         5        870   4350\n",
       "1 2024-06-28         PC   East         4        536   2144\n",
       "2 2024-04-02  Accessory  South         8        122    976\n",
       "3 2024-01-15     Tablet  North         7        664   4648\n",
       "4 2024-04-16  Accessory  South         2        776   1552"
      ]
     },
     "execution_count": 6,
     "metadata": {},
     "output_type": "execute_result"
    }
   ],
   "source": [
    "df = pd.read_excel('sample01.xlsx', sheet_name='Sheet1')\n",
    "df.head()"
   ]
  },
  {
   "cell_type": "code",
   "execution_count": 15,
   "id": "32145a6f",
   "metadata": {},
   "outputs": [
    {
     "data": {
      "text/plain": [
       "pandas.core.frame.DataFrame"
      ]
     },
     "execution_count": 15,
     "metadata": {},
     "output_type": "execute_result"
    }
   ],
   "source": [
    "data_text = df.astype(str)\n",
    "type(df)"
   ]
  },
  {
   "cell_type": "code",
   "execution_count": null,
   "id": "aca06d42",
   "metadata": {},
   "outputs": [
    {
     "data": {
      "text/html": [
       "<div>\n",
       "<style scoped>\n",
       "    .dataframe tbody tr th:only-of-type {\n",
       "        vertical-align: middle;\n",
       "    }\n",
       "\n",
       "    .dataframe tbody tr th {\n",
       "        vertical-align: top;\n",
       "    }\n",
       "\n",
       "    .dataframe thead th {\n",
       "        text-align: right;\n",
       "    }\n",
       "</style>\n",
       "<table border=\"1\" class=\"dataframe\">\n",
       "  <thead>\n",
       "    <tr style=\"text-align: right;\">\n",
       "      <th></th>\n",
       "      <th>Product</th>\n",
       "      <th>UnitPrice</th>\n",
       "    </tr>\n",
       "  </thead>\n",
       "  <tbody>\n",
       "    <tr>\n",
       "      <th>0</th>\n",
       "      <td>Accessory</td>\n",
       "      <td>424.750000</td>\n",
       "    </tr>\n",
       "    <tr>\n",
       "      <th>1</th>\n",
       "      <td>PC</td>\n",
       "      <td>536.000000</td>\n",
       "    </tr>\n",
       "    <tr>\n",
       "      <th>2</th>\n",
       "      <td>Phone</td>\n",
       "      <td>183.000000</td>\n",
       "    </tr>\n",
       "    <tr>\n",
       "      <th>3</th>\n",
       "      <td>Tablet</td>\n",
       "      <td>782.333333</td>\n",
       "    </tr>\n",
       "  </tbody>\n",
       "</table>\n",
       "</div>"
      ],
      "text/plain": [
       "     Product   UnitPrice\n",
       "0  Accessory  424.750000\n",
       "1         PC  536.000000\n",
       "2      Phone  183.000000\n",
       "3     Tablet  782.333333"
      ]
     },
     "execution_count": 45,
     "metadata": {},
     "output_type": "execute_result"
    }
   ],
   "source": [
    "df[\"Month\"] = df[\"Date\"].dt.to_period(\"M\").dt.to_timestamp()\n",
    "monthly_sales = df.groupby(\"Month\", as_index=False)[\"Sales\"].sum()\n",
    "df[\"Day\"] = df[\"Date\"].dt.to_period(\"D\").dt.to_timestamp()\n",
    "daily_sales = df.groupby(\"Day\", as_index=False)[\"Sales\"].sum()\n",
    "df[\"Week\"] = df[\"Date\"].dt.to_period(\"W\").dt.to_timestamp()\n",
    "weekly_sales = df.groupby(\"Week\", as_index=False)[\"Sales\"].sum()\n",
    "avg_unitprice_by_product = df.groupby(\"Product\", as_index=False)[\"UnitPrice\"].mean()\n",
    "avg_unitprice_by_product"
   ]
  },
  {
   "cell_type": "code",
   "execution_count": null,
   "id": "4dad1f7b",
   "metadata": {},
   "outputs": [],
   "source": [
    "prompt_text = f\"売上データ:\\n{data_text}\\nこのデータをもとに、(1)月ごとの売上合計を計算, (2)商品別の平均単価, (3)地域ごとに最も売れた商品をそれぞれ算出し、(4)全体の傾向を分析してください。\\n(1)〜(4)をJson形式で返してください。"
   ]
  }
 ],
 "metadata": {
  "kernelspec": {
   "display_name": ".venv",
   "language": "python",
   "name": "python3"
  },
  "language_info": {
   "codemirror_mode": {
    "name": "ipython",
    "version": 3
   },
   "file_extension": ".py",
   "mimetype": "text/x-python",
   "name": "python",
   "nbconvert_exporter": "python",
   "pygments_lexer": "ipython3",
   "version": "3.12.10"
  }
 },
 "nbformat": 4,
 "nbformat_minor": 5
}
