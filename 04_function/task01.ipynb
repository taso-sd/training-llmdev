{
 "cells": [
  {
   "cell_type": "markdown",
   "id": "9183649c",
   "metadata": {},
   "source": [
    "# ユーザー名のバリデーション"
   ]
  },
  {
   "cell_type": "code",
   "execution_count": 4,
   "id": "95434b0f",
   "metadata": {},
   "outputs": [
    {
     "name": "stdout",
     "output_type": "stream",
     "text": [
      "エラー: ユーザー名は英数字のみ使用できます\n",
      "不正なユーザー名です\n"
     ]
    }
   ],
   "source": [
    "def validate_username(user_name):\n",
    "    user_name_len = len(user_name)\n",
    "\n",
    "    if user_name_len < 5 or user_name_len > 15:\n",
    "        print(\"エラー: ユーザー名は5文字以上15文字以内で入力してください\")\n",
    "        return False\n",
    "    elif \" \" in user_name:\n",
    "        print(\"エラー: ユーザー名に空白を含めることはできません\")\n",
    "        return False\n",
    "    elif user_name.isalnum() == False:\n",
    "        print(\"エラー: ユーザー名は英数字のみ使用できます\")\n",
    "        return False\n",
    "    else:\n",
    "        print(\"ユーザー名は有効です\")\n",
    "        return True\n",
    "\n",
    "\n",
    "\n",
    "user_name = input()\n",
    "validation_result = validate_username(user_name)\n",
    "if validation_result:\n",
    "    print(\"ユーザー名は有効です\")\n",
    "else:\n",
    "    print(\"不正なユーザー名です\")"
   ]
  }
 ],
 "metadata": {
  "kernelspec": {
   "display_name": ".venv",
   "language": "python",
   "name": "python3"
  },
  "language_info": {
   "codemirror_mode": {
    "name": "ipython",
    "version": 3
   },
   "file_extension": ".py",
   "mimetype": "text/x-python",
   "name": "python",
   "nbconvert_exporter": "python",
   "pygments_lexer": "ipython3",
   "version": "3.12.10"
  }
 },
 "nbformat": 4,
 "nbformat_minor": 5
}
