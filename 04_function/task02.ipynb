{
 "cells": [
  {
   "cell_type": "markdown",
   "id": "1d0988dd",
   "metadata": {},
   "source": [
    "# URLコンテンツの保存"
   ]
  },
  {
   "cell_type": "code",
   "execution_count": 8,
   "id": "970b2eb8",
   "metadata": {},
   "outputs": [
    {
     "name": "stdout",
     "output_type": "stream",
     "text": [
      "Content saved in: 20250814_170249.txt\n"
     ]
    }
   ],
   "source": [
    "import urllib.request\n",
    "import datetime\n",
    "def save_url_content(url):\n",
    "    res = urllib.request.urlopen(url)\n",
    "    res_body = res.read()\n",
    "    res_decoded = res_body.decode('utf-8')\n",
    "    res_partial = res_decoded[:500] if len(res_decoded) > 500 else res_decoded\n",
    "\n",
    "    now = datetime.datetime.now()\n",
    "    file_name = f\"{now.strftime('%Y%m%d_%H%M%S')}.txt\"\n",
    "\n",
    "    with open(file_name, 'w', encoding='utf-8') as f:\n",
    "        f.write(res_partial)\n",
    "\n",
    "    return file_name\n",
    "\n",
    "\n",
    "url = input(\"URLを入力してください: \")\n",
    "file_name = save_url_content(url)\n",
    "print(f\"Content saved in: {file_name}\")"
   ]
  }
 ],
 "metadata": {
  "kernelspec": {
   "display_name": ".venv",
   "language": "python",
   "name": "python3"
  },
  "language_info": {
   "codemirror_mode": {
    "name": "ipython",
    "version": 3
   },
   "file_extension": ".py",
   "mimetype": "text/x-python",
   "name": "python",
   "nbconvert_exporter": "python",
   "pygments_lexer": "ipython3",
   "version": "3.12.10"
  }
 },
 "nbformat": 4,
 "nbformat_minor": 5
}
