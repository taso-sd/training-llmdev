{
 "cells": [
  {
   "cell_type": "markdown",
   "id": "b7f3a395",
   "metadata": {},
   "source": [
    "# 10年後の金額を複利で予測"
   ]
  },
  {
   "cell_type": "code",
   "execution_count": 3,
   "id": "75381d4e",
   "metadata": {},
   "outputs": [
    {
     "name": "stdout",
     "output_type": "stream",
     "text": [
      "10年後の金額: 1628.89\n"
     ]
    }
   ],
   "source": [
    "principal = input(\"元金を入力してください: \")\n",
    "principal = float(principal)\n",
    "rate = input(\"年利を入力してください: \")\n",
    "rate = float(rate)\n",
    "\n",
    "for _ in range(1, 11):\n",
    "    principal = principal * (1 + rate / 100)\n",
    "\n",
    "print(f\"10年後の金額: {principal:.2f}\")"
   ]
  }
 ],
 "metadata": {
  "kernelspec": {
   "display_name": ".venv",
   "language": "python",
   "name": "python3"
  },
  "language_info": {
   "codemirror_mode": {
    "name": "ipython",
    "version": 3
   },
   "file_extension": ".py",
   "mimetype": "text/x-python",
   "name": "python",
   "nbconvert_exporter": "python",
   "pygments_lexer": "ipython3",
   "version": "3.12.10"
  }
 },
 "nbformat": 4,
 "nbformat_minor": 5
}
