{
 "cells": [
  {
   "cell_type": "markdown",
   "id": "e58f5d1b",
   "metadata": {},
   "source": [
    "# 料込価格を計算"
   ]
  },
  {
   "cell_type": "code",
   "execution_count": 5,
   "id": "c0f60805",
   "metadata": {},
   "outputs": [
    {
     "name": "stdout",
     "output_type": "stream",
     "text": [
      "送料は無料です。\n",
      "送料込税込価格は2090円です。\n"
     ]
    }
   ],
   "source": [
    "price_without_tax = input(\"税抜価格を入力してください: \")\n",
    "price_without_tax = float(price_without_tax)\n",
    "total_price = round(price_without_tax * 1.1)\n",
    "\n",
    "if total_price < 2000:\n",
    "    total_price += 350\n",
    "    print(\"送料は350円です。\")\n",
    "else:\n",
    "    print(\"送料は無料です。\")\n",
    "\n",
    "print(f\"送料込税込価格は{total_price}円です。\")\n",
    "\n"
   ]
  }
 ],
 "metadata": {
  "kernelspec": {
   "display_name": ".venv",
   "language": "python",
   "name": "python3"
  },
  "language_info": {
   "codemirror_mode": {
    "name": "ipython",
    "version": 3
   },
   "file_extension": ".py",
   "mimetype": "text/x-python",
   "name": "python",
   "nbconvert_exporter": "python",
   "pygments_lexer": "ipython3",
   "version": "3.12.10"
  }
 },
 "nbformat": 4,
 "nbformat_minor": 5
}
