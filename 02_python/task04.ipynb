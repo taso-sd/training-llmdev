{
 "cells": [
  {
   "cell_type": "markdown",
   "id": "3e884c0a",
   "metadata": {},
   "source": [
    "# 数値計算の例外処理"
   ]
  },
  {
   "cell_type": "code",
   "execution_count": 8,
   "id": "bad9c6e4",
   "metadata": {},
   "outputs": [
    {
     "name": "stdout",
     "output_type": "stream",
     "text": [
      "エラー: 整数を入力してください\n",
      "プログラム終了\n"
     ]
    }
   ],
   "source": [
    "try:\n",
    "    x = input(\"1つ目の数値を入力してください: \")\n",
    "    x = int(x)\n",
    "    y = input(\"2つ目の数値を入力してください: \")\n",
    "    y = int(y)\n",
    "    result = x / y\n",
    "except ValueError:\n",
    "    print(\"エラー: 整数を入力してください\")\n",
    "except ZeroDivisionError:\n",
    "    print(\"エラー: 0 で割ることはできません\")\n",
    "else:\n",
    "    print(f\"計算結果: {result}\")\n",
    "finally:\n",
    "    print(\"プログラム終了\")"
   ]
  }
 ],
 "metadata": {
  "kernelspec": {
   "display_name": ".venv",
   "language": "python",
   "name": "python3"
  },
  "language_info": {
   "codemirror_mode": {
    "name": "ipython",
    "version": 3
   },
   "file_extension": ".py",
   "mimetype": "text/x-python",
   "name": "python",
   "nbconvert_exporter": "python",
   "pygments_lexer": "ipython3",
   "version": "3.12.10"
  }
 },
 "nbformat": 4,
 "nbformat_minor": 5
}
