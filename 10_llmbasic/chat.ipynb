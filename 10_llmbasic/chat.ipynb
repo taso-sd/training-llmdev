{
 "cells": [
  {
   "cell_type": "code",
   "execution_count": 1,
   "id": "b054e485",
   "metadata": {},
   "outputs": [
    {
     "name": "stdout",
     "output_type": "stream",
     "text": [
      "{'_request_id': 'req_5b6baab001fa4ae5a3418d81134ef1e8',\n",
      " 'choices': [Choice(finish_reason='stop', index=0, logprobs=None, message=ChatCompletionMessage(content='言語モデルを効果的に使用するためのポイントはいくつかあります。以下に主なものを挙げます。\\n\\n1. **明確な指示を与える**: 言語モデルは、具体的で明確な質問や指示に対して最もよく応答します。曖昧な表現を避け、必要な情報を明示してください。\\n\\n2. **コンテキストを提供する**: モデルが理解しやすいように、関連する背景情報や文脈を提供することが重要です。特定のトピックに関する質問をする場合、そのトピックに関連する情報を付け加えると良いでしょう。\\n\\n3. **反復的なフィードバック**: モデルの応答を洗練させたい場合、フィードバックを活用して、より良い結果が得られるように指示を調整することが効果的です。\\n\\n4. **クリエイティブな利用**: 言語モデルはアイデア生成やブレインストーミングに非常に有効です。新しい視点やアプローチを得たいときは、幅広い角度からの質問をしてみてください。\\n\\n5. **慎重な評価**: 言語モデルが提供する情報は常に正確であるとは限りません。情報を確認し、信頼できるソースと照らし合わせることが重要です。\\n\\n6. **プライバシーとセキュリティの意識**: モデルに個人情報や機密情報を入力しないように注意しましょう。プライバシーを保護するために、必要な情報だけを使用することが大切です。\\n\\n7. **適切なトーンとスタイル**: 必要に応じて応答のトーンやスタイルを指定することで、求める情報に適した形で回答を得ることができます。\\n\\nこれらのポイントを念頭に置いて言語モデルを活用することで、より効果的な結果を得ることができるでしょう。', refusal=None, role='assistant', audio=None, function_call=None, tool_calls=None, annotations=[]))],\n",
      " 'created': 1755582096,\n",
      " 'id': 'chatcmpl-C69OCznBlugaMeNuHcOAZDN7mdofU',\n",
      " 'model': 'gpt-4o-mini-2024-07-18',\n",
      " 'object': 'chat.completion',\n",
      " 'service_tier': 'default',\n",
      " 'system_fingerprint': 'fp_560af6e559',\n",
      " 'usage': CompletionUsage(completion_tokens=479, prompt_tokens=18, total_tokens=497, completion_tokens_details=CompletionTokensDetails(accepted_prediction_tokens=0, audio_tokens=0, reasoning_tokens=0, rejected_prediction_tokens=0), prompt_tokens_details=PromptTokensDetails(audio_tokens=0, cached_tokens=0))}\n"
     ]
    }
   ],
   "source": [
    "# 必要なモジュールをインポート\n",
    "import os\n",
    "from dotenv import load_dotenv\n",
    "from openai import OpenAI\n",
    "from pprint import pprint\n",
    "\n",
    "# 環境変数の取得\n",
    "load_dotenv(\"../.env\")\n",
    "\n",
    "# OpenAI APIクライアントを生成\n",
    "client = OpenAI(api_key=os.environ['API_KEY'])\n",
    "\n",
    "# モデル名\n",
    "MODEL_NAME = \"gpt-4o-mini\"\n",
    "\n",
    "# メッセージの設定\n",
    "message = \"言語モデルを使う上でのポイントは\"\n",
    "\n",
    "# APIへリクエスト\n",
    "response = client.chat.completions.create(\n",
    "    model=MODEL_NAME,\n",
    "    messages=[\n",
    "        {\"role\": \"user\", \"content\": message},\n",
    "    ]\n",
    ")\n",
    "\n",
    "# レスポンスの表示\n",
    "pprint(vars(response))"
   ]
  },
  {
   "cell_type": "code",
   "execution_count": 2,
   "id": "dd6725e6",
   "metadata": {},
   "outputs": [
    {
     "name": "stdout",
     "output_type": "stream",
     "text": [
      "言語モデルを効果的に使用するためのポイントはいくつかあります。以下に主なものを挙げます。\n",
      "\n",
      "1. **明確な指示を与える**: 言語モデルは、具体的で明確な質問や指示に対して最もよく応答します。曖昧な表現を避け、必要な情報を明示してください。\n",
      "\n",
      "2. **コンテキストを提供する**: モデルが理解しやすいように、関連する背景情報や文脈を提供することが重要です。特定のトピックに関する質問をする場合、そのトピックに関連する情報を付け加えると良いでしょう。\n",
      "\n",
      "3. **反復的なフィードバック**: モデルの応答を洗練させたい場合、フィードバックを活用して、より良い結果が得られるように指示を調整することが効果的です。\n",
      "\n",
      "4. **クリエイティブな利用**: 言語モデルはアイデア生成やブレインストーミングに非常に有効です。新しい視点やアプローチを得たいときは、幅広い角度からの質問をしてみてください。\n",
      "\n",
      "5. **慎重な評価**: 言語モデルが提供する情報は常に正確であるとは限りません。情報を確認し、信頼できるソースと照らし合わせることが重要です。\n",
      "\n",
      "6. **プライバシーとセキュリティの意識**: モデルに個人情報や機密情報を入力しないように注意しましょう。プライバシーを保護するために、必要な情報だけを使用することが大切です。\n",
      "\n",
      "7. **適切なトーンとスタイル**: 必要に応じて応答のトーンやスタイルを指定することで、求める情報に適した形で回答を得ることができます。\n",
      "\n",
      "これらのポイントを念頭に置いて言語モデルを活用することで、より効果的な結果を得ることができるでしょう。\n"
     ]
    }
   ],
   "source": [
    "print(response.choices[0].message.content.strip())"
   ]
  },
  {
   "cell_type": "code",
   "execution_count": 3,
   "id": "6f7632ea",
   "metadata": {},
   "outputs": [
    {
     "name": "stdout",
     "output_type": "stream",
     "text": [
      "新製品の発売に向けた効果的なマーケティング戦略は、多角的なアプローチが求められます。以下はそのための具体的なステップと戦略です。\n",
      "\n",
      "### 1. 市場調査とターゲット設定\n",
      "- **市場分析**: 競合他社の製品、価格、プロモーション手法を調査し、顧客のニーズを把握します。\n",
      "- **ペルソナ作成**: ターゲット顧客像を明確にし、年齢、性別、趣味、行動パターンなどを定義します。\n",
      "\n",
      "### 2. 製品ポジショニング\n",
      "- **USP（ユニークセリングプロポジション）の確立**: 競合他社と差別化できる製品の特徴や利点を明確にし、魅力的なメッセージにします。\n",
      "\n",
      "### 3. マルチチャネルプロモーション戦略\n",
      "- **SNS活用**: Instagram、Facebook、Twitterなどのプラットフォームでターゲットに合わせたコンテンツを発信し、フォロワーを獲得します。\n",
      "- **メールマーケティング**: 先行登録者や既存顧客に向けて新製品の情報を配信し、発売日のリマインドなどを行います。\n",
      "- **インフルエンサーとの提携**: 影響力のあるインフルエンサーとコラボレーションし、製品の認知度を上げます。\n",
      "\n",
      "### 4. 試供品や特別オファー\n",
      "- **先行予約特典**: 事前に商品を予約した顧客に特別なプレゼントや割引を提供します。\n",
      "- **試供品配布**: ターゲット層が集まるイベントや店舗で試供品を配布し、実際に製品を体験してもらいます。\n",
      "\n",
      "### 5. PR戦略\n",
      "- **プレスリリース配信**: 新製品の発売に伴い、プレスリリースを発信し、メディアに取り上げてもらえるよう働きかけます。\n",
      "- **製品発表イベントの開催**: オンラインまたはオフラインでの製品発表会を開催し、メディアや顧客に直接アプローチします。\n",
      "\n",
      "### 6. 効果測定とフィードバック\n",
      "- **KPI設定とモニタリング**: 新製品の販売数、ウェブサイトのトラフィック、SNSエンゲージメントなどの指標を追跡し、戦略の効果を測定します。\n",
      "- **顧客の声を反映**: 販売後の顧客からのフィードバックやレビューを集め、今後の製品改善やマーケティング戦略に活かします。\n",
      "\n",
      "これらのステップを踏むことで、新製品の発売に向けて効果的なマーケティング戦略を展開することができるでしょう。マーケティングは一度だけの活動ではなく、不断に文脈や市場に合わせて調整を行う必要があることを忘れずにいたいものです。\n"
     ]
    }
   ],
   "source": [
    "# 役割や前提の設定\n",
    "role = \"あなたはマーケティング分野に精通したビジネスコンサルタントです。企業の成長をサポートするために、効果的なマーケティング戦略を提供します。\"\n",
    "\n",
    "# メッセージの設定\n",
    "message = \"新製品の発売に向けた効果的なマーケティング戦略を教えてください。\"\n",
    "\n",
    "# APIへリクエスト\n",
    "response = client.chat.completions.create(\n",
    "    model=MODEL_NAME,\n",
    "    messages=[\n",
    "        {\"role\": \"system\", \"content\": role},\n",
    "        {\"role\": \"user\", \"content\": message},\n",
    "    ],\n",
    ")\n",
    "\n",
    "# 言語モデルからの回答を表示\n",
    "print(response.choices[0].message.content.strip())"
   ]
  },
  {
   "cell_type": "code",
   "execution_count": 5,
   "id": "c4771a17",
   "metadata": {},
   "outputs": [
    {
     "name": "stdout",
     "output_type": "stream",
     "text": [
      "--------------------\n",
      "日本は多様な魅力を持つ国で、歴史、文化、自然、食など様々な面で楽しめるポイントがあります。以下にいくつかの魅力を紹介します。\n",
      "\n",
      "1. **歴史と文化**:\n",
      "   - **伝統的な寺院や神社**: 京都の金閣寺や清水寺、東京の明治神宮などは、日本の歴史や宗教を感じることが\n",
      "--------------------\n",
      "日本は独自の文化、歴史、自然の美しさを持つ魅力的な国です。以下は日本の魅力をいくつか紹介します。\n",
      "\n",
      "### 1. 文化と歴史\n",
      "日本は古代からの豊かな文化を持っています。伝統的な茶道、書道、武道、そして日本の美しい建築物（神社、寺、城）などは、訪れる人々に日本\n",
      "--------------------\n",
      "もちろんです！日本は多様な魅力を持つ国です。以下にいくつかのポイントを挙げてみます。\n",
      "\n",
      "1. **自然の美**: 日本は四季がはっきりしており、春の桜、夏の緑、秋の紅葉、冬の雪景色を楽しむことができます。特に富士山や、四国のしまなみ海道、北海道の大自然は\n"
     ]
    }
   ],
   "source": [
    "# 出力の多様性\n",
    "message = \"日本の魅力を紹介して！\"\n",
    "\n",
    "# APIへリクエスト\n",
    "response = client.chat.completions.create(\n",
    "    model=MODEL_NAME,\n",
    "    messages=[\n",
    "        {\"role\": \"user\", \"content\": message},\n",
    "    ],\n",
    "    presence_penalty=-2.0,\n",
    "    n = 3, # 3回答を得る\n",
    "    max_completion_tokens = 100 # 出力トークン長を制限\n",
    ")\n",
    "\n",
    "# 結果を表示（複数回答を比較）\n",
    "for choice in response.choices:\n",
    "    print(\"-\" * 20)\n",
    "    print(choice.message.content.strip())"
   ]
  },
  {
   "cell_type": "code",
   "execution_count": 6,
   "id": "78a6cfd6",
   "metadata": {},
   "outputs": [
    {
     "name": "stdout",
     "output_type": "stream",
     "text": [
      "tokens_count=2\n",
      "tokens=[95839, 3393]\n"
     ]
    }
   ],
   "source": [
    "import tiktoken\n",
    "from tiktoken.core import Encoding\n",
    "\n",
    "# OpenAI APIの特定のモデルに対応するトークナイザーを取得\n",
    "encoding: Encoding = tiktoken.encoding_for_model(MODEL_NAME) # o200k_base\n",
    "\n",
    "# テキストをトークンIDのリストに変換\n",
    "tokens = encoding.encode(\"こんにちは！\")\n",
    "tokens_count = len(tokens)\n",
    "\n",
    "# トークンの長さとトークンIDを表示\n",
    "print(f\"{tokens_count=}\")\n",
    "print(f\"{tokens=}\")"
   ]
  },
  {
   "cell_type": "code",
   "execution_count": 7,
   "id": "ea01ee85",
   "metadata": {},
   "outputs": [
    {
     "name": "stdout",
     "output_type": "stream",
     "text": [
      "--------------------\n",
      "B:こんにちは！どうしたの？元気？\n",
      "--------------------\n",
      "B:こんにちは！Aさん、元気ですか？\n",
      "--------------------\n",
      "B:こんにちは！Aさん、元気ですか？\n"
     ]
    }
   ],
   "source": [
    "# トークンの選択度合い\n",
    "message = \"\"\"\n",
    "AさんとBさんで会話してください。\n",
    "A:あ、Bさんだ。\n",
    "B:\n",
    "\"\"\"\n",
    "\n",
    "# APIへリクエスト\n",
    "response = client.chat.completions.create(\n",
    "    model=MODEL_NAME,\n",
    "    messages=[\n",
    "        {\"role\": \"user\", \"content\": message},\n",
    "    ],\n",
    "    max_tokens=100,\n",
    "    n=3,\n",
    "    logit_bias = {95839:8, 3393:8}\n",
    ")\n",
    "\n",
    "# 結果を表示\n",
    "for choice in response.choices:\n",
    "    print(\"-\" * 20)\n",
    "    print(choice.message.content.strip())"
   ]
  },
  {
   "cell_type": "code",
   "execution_count": 8,
   "id": "73eabb83",
   "metadata": {},
   "outputs": [
    {
     "name": "stdout",
     "output_type": "stream",
     "text": [
      "言語モデルを使用する際のポイントはいくつかあります。以下に主要な点を挙げます。\n",
      "\n",
      "1. **目的を明確にする**: 言語モデルを使用する理由や目的を明確にしましょう。例えば、文書生成、翻訳、質問応答など、具体的な使用ケースを考慮することが重要です。\n",
      "\n",
      "2. **入力の質**: モデルに与える入力（プロンプト）は、その結果に大きな影響を与えます。明確で具体的な指示を与えることで、より良い結果が得られます。\n",
      "\n",
      "3. **出力の評価**: モデルから得られる出力は必ずしも正確とは限りません。生成されたコンテンツを評価し、必要に応じて修正や編集を行うことが重要です。\n",
      "\n",
      "4. **バイアスと倫理**: 言語モデルは訓練データに基づいて学習しています。そのため、バイアスや倫理的な問題を考慮し、その影響を理解することが重要です。出力が不適切な内容を含まないよう注意しましょう。\n",
      "\n",
      "5. **コンテキストの提供**: モデルが理解しやすいように、必要なコンテキストを提供することが重要です。背景情報や関連する詳細を含めることで、より適切な応答が得られる可能性が高まります。\n",
      "\n",
      "6. **反復と改善**: モデルの応答を繰り返し評価し、フィードバックを基にプロンプトを調整することで、出力の質を向上させることができます。\n",
      "\n",
      "7. **技術的制約の理解**: 言語モデルには限界があります。例えば、知識のカットオフや特定のトピックに対する理解不足などがあります。これらを理解することで、適切な期待値を持つことができます。\n",
      "\n",
      "このようなポイントを意識することで、言語モデルをより効果的に活用することができるでしょう。"
     ]
    }
   ],
   "source": [
    "# メッセージの設定\n",
    "message = \"言語モデルを使う上でのポイントは\"\n",
    "\n",
    "# APIへリクエスト\n",
    "stream = client.chat.completions.create(\n",
    "    model=MODEL_NAME,\n",
    "    messages=[\n",
    "        {\"role\": \"user\", \"content\": message},\n",
    "    ],\n",
    "    stream=True,\n",
    ")\n",
    "\n",
    "for chunk in stream:\n",
    "    if chunk.choices:\n",
    "        if chunk.choices[0].delta.content is not None:\n",
    "            print(chunk.choices[0].delta.content, end=\"\")"
   ]
  }
 ],
 "metadata": {
  "kernelspec": {
   "display_name": ".venv",
   "language": "python",
   "name": "python3"
  },
  "language_info": {
   "codemirror_mode": {
    "name": "ipython",
    "version": 3
   },
   "file_extension": ".py",
   "mimetype": "text/x-python",
   "name": "python",
   "nbconvert_exporter": "python",
   "pygments_lexer": "ipython3",
   "version": "3.12.10"
  }
 },
 "nbformat": 4,
 "nbformat_minor": 5
}
