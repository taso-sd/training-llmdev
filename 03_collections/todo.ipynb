{
 "cells": [
  {
   "cell_type": "markdown",
   "id": "17969a47",
   "metadata": {},
   "source": [
    "# TODOリストアプリ"
   ]
  },
  {
   "cell_type": "code",
   "execution_count": 6,
   "id": "bf713c5c",
   "metadata": {},
   "outputs": [
    {
     "name": "stdout",
     "output_type": "stream",
     "text": [
      "【TODOリスト】\n",
      "番号を入力してください[1:追加、2:表示、3:削除、4:保存と終了]:3:削除\n",
      "0. 英語の勉強\n",
      "無効な番号です。\n",
      "番号を入力してください[1:追加、2:表示、3:削除、4:保存と終了]:4:保存と終了\n",
      "TODOリストを保存して終了します。\n"
     ]
    }
   ],
   "source": [
    "# TODOリストを格納するリスト\n",
    "filename = \"todo_list.txt\"\n",
    "try:\n",
    "    # ファイルが存在したら内容を読込\n",
    "    with open(filename, \"r\", encoding=\"utf-8\") as file:\n",
    "        todo_list = [line.strip() for line in file]\n",
    "except FileNotFoundError:\n",
    "    # ファイルが存在しない場合は新しいリストを作成\n",
    "    todo_list = []\n",
    "\n",
    "# メニュー表示\n",
    "print(\"【TODOリスト】\")\n",
    "\n",
    "while True:\n",
    "    print(\"番号を入力してください[1:追加、2:表示、3:削除、4:保存と終了]:\", end=\"\", flush=True)\n",
    "    choice = input(\"\")\n",
    "\n",
    "    if choice == \"1\":\n",
    "        print(\"1:追加\", flush=True)\n",
    "        add_todo = input(\"追加するTODO: \")\n",
    "        print(\"追加するTODO:\", add_todo, flush=True)\n",
    "        todo_list.append(add_todo)\n",
    "\n",
    "    elif choice == \"2\":\n",
    "        print(\"2:表示\", flush=True)\n",
    "        for i, todo in enumerate(todo_list):\n",
    "            print(f\"{i}. {todo}\")\n",
    "    elif choice == \"3\":\n",
    "        print(\"3:削除\", flush=True)\n",
    "\n",
    "        for i, todo in enumerate(todo_list):\n",
    "            print(f\"{i}. {todo}\")\n",
    "        \n",
    "        try:\n",
    "            index = int(input(\"削除するTODOの番号: \"))\n",
    "            if 0 <= index < len(todo_list):\n",
    "                removed_todo = todo_list.pop(index)\n",
    "            else:\n",
    "                print(\"無効な番号です。\", flush=True)\n",
    "        except ValueError:\n",
    "            print(\"無効な番号です。\", flush=True)\n",
    "\n",
    "    elif choice == \"4\":\n",
    "        print(\"4:保存と終了\", flush=True)\n",
    "        with open(filename, \"w\", encoding=\"utf-8\") as file:\n",
    "            file.writelines(f\"{todo}\\n\" for todo in todo_list)\n",
    "        print(\"TODOリストを保存して終了します。\", flush=True)\n",
    "        break\n",
    "\n",
    "    else:\n",
    "        print(\"1-4の数字を入力してください。\", flush=True)"
   ]
  }
 ],
 "metadata": {
  "kernelspec": {
   "display_name": ".venv",
   "language": "python",
   "name": "python3"
  },
  "language_info": {
   "codemirror_mode": {
    "name": "ipython",
    "version": 3
   },
   "file_extension": ".py",
   "mimetype": "text/x-python",
   "name": "python",
   "nbconvert_exporter": "python",
   "pygments_lexer": "ipython3",
   "version": "3.12.10"
  }
 },
 "nbformat": 4,
 "nbformat_minor": 5
}
