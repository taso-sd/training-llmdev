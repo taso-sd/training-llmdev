{
 "cells": [
  {
   "cell_type": "markdown",
   "id": "8bf4f281",
   "metadata": {},
   "source": [
    "# 単語の文字数カウント"
   ]
  },
  {
   "cell_type": "code",
   "execution_count": null,
   "id": "d8b016af",
   "metadata": {},
   "outputs": [
    {
     "name": "stdout",
     "output_type": "stream",
     "text": [
      "入力した英単語：['bear', 'cat', 'dog', 'giraffe', 'horse', 'kangaroo']\n",
      "aが5個ありました\n",
      "bが1個ありました\n",
      "cが1個ありました\n",
      "dが1個ありました\n",
      "eが3個ありました\n",
      "fが2個ありました\n",
      "gが3個ありました\n",
      "hが1個ありました\n",
      "iが1個ありました\n",
      "kが1個ありました\n",
      "nが1個ありました\n",
      "oが4個ありました\n",
      "rが4個ありました\n",
      "sが1個ありました\n",
      "tが1個ありました\n"
     ]
    }
   ],
   "source": [
    "words_list = []\n",
    "char_dict = {chr(c): 0 for c in range(ord('a'), ord('z') + 1)}\n",
    "\n",
    "while True:\n",
    "    word = input(\"英単語を入力してください：\")\n",
    "    if word == \"\":\n",
    "        break\n",
    "\n",
    "    words_list.append(word)\n",
    "\n",
    "    for char in word:\n",
    "        char_dict[char] += 1\n",
    "\n",
    "print(f\"入力した英単語：{sorted(words_list)}\")\n",
    "for char, count in char_dict.items():\n",
    "    if count > 0:\n",
    "        print(f\"{char}が{count}個ありました\")"
   ]
  }
 ],
 "metadata": {
  "kernelspec": {
   "display_name": ".venv",
   "language": "python",
   "name": "python3"
  },
  "language_info": {
   "codemirror_mode": {
    "name": "ipython",
    "version": 3
   },
   "file_extension": ".py",
   "mimetype": "text/x-python",
   "name": "python",
   "nbconvert_exporter": "python",
   "pygments_lexer": "ipython3",
   "version": "3.12.10"
  }
 },
 "nbformat": 4,
 "nbformat_minor": 5
}
