{
 "cells": [
  {
   "cell_type": "markdown",
   "id": "9d263531",
   "metadata": {},
   "source": [
    "# 学生の成績分析ツール"
   ]
  },
  {
   "cell_type": "code",
   "execution_count": 3,
   "id": "a3b2a8bc",
   "metadata": {},
   "outputs": [
    {
     "name": "stdout",
     "output_type": "stream",
     "text": [
      "平均点: 80.0\n",
      "最高点: 90\n",
      "最低点: 70\n",
      "平均以上の学生数: 2\n"
     ]
    }
   ],
   "source": [
    "grades = [70, 75, 80, 85, 90]\n",
    "\n",
    "average_grade = sum(grades) / len(grades)\n",
    "max_grade = max(grades)\n",
    "min_grade = min(grades)\n",
    "above_average = len([grade for grade in grades if grade > average_grade])\n",
    "\n",
    "print(f\"平均点: {average_grade:.1f}\")\n",
    "print(f\"最高点: {max_grade}\")\n",
    "print(f\"最低点: {min_grade}\")\n",
    "print(f\"平均以上の学生数: {above_average}\")"
   ]
  }
 ],
 "metadata": {
  "kernelspec": {
   "display_name": ".venv",
   "language": "python",
   "name": "python3"
  },
  "language_info": {
   "codemirror_mode": {
    "name": "ipython",
    "version": 3
   },
   "file_extension": ".py",
   "mimetype": "text/x-python",
   "name": "python",
   "nbconvert_exporter": "python",
   "pygments_lexer": "ipython3",
   "version": "3.12.10"
  }
 },
 "nbformat": 4,
 "nbformat_minor": 5
}
