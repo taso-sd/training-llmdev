{
 "cells": [
  {
   "cell_type": "code",
   "execution_count": 2,
   "id": "9ef3b166",
   "metadata": {},
   "outputs": [],
   "source": [
    "# 必要なモジュールをインポート\n",
    "import os\n",
    "from dotenv import load_dotenv\n",
    "from langchain_openai import ChatOpenAI\n",
    "\n",
    "# 環境変数の読み込み\n",
    "load_dotenv(\"../.env\")\n",
    "os.environ['OPENAI_API_KEY'] = os.environ['API_KEY']\n",
    "\n",
    "# モデル名\n",
    "MODEL_NAME = \"gpt-4o-mini\""
   ]
  },
  {
   "cell_type": "code",
   "execution_count": 3,
   "id": "c7804ecd",
   "metadata": {},
   "outputs": [],
   "source": [
    "# 検索ツールの定義\n",
    "from langchain_community.tools.tavily_search import TavilySearchResults\n",
    "\n",
    "tool = TavilySearchResults(max_results=2)\n",
    "tools = [tool]"
   ]
  },
  {
   "cell_type": "code",
   "execution_count": 4,
   "id": "59269027",
   "metadata": {},
   "outputs": [
    {
     "data": {
      "text/plain": [
       "[{'url': 'https://note.com/life_to_ai/n/nfbc581718912',\n",
       "  'content': 'LangGraphを使えば、ノードを順に実行しながら状態を更新していくことで、まるでストーリーを語るようにエージェントが動きます。📖それでは、基礎からしっかりと学んでいきましょう。\\n\\n### 2. 🔠 LangGraphの基本構成\\n\\nLangGraphには3つの重要な構成要素があります。それぞれを理解することが、AIエージェントの作成に欠かせません。\\n\\nノード（Node）\\n\\nノードとは、Pythonの関数そのものです。💻 典型的なPythonの関数がノードの役割を果たします。 例えば、以下のように各ノードは、グラフの状態（State）を受け取り、それに対して操作を行います。 [...] それでは、実際にシンプルなグラフを構築してみましょう。\\n\\nノードの作成\\n\\nまず、エージェントに必要な機能を定義したノードを作成します。 ノードは基本的にPythonの関数であり、それぞれがグラフの一部を担います。\\n\\n`def node_01(state: State):\\nprint(f\"node_01: {state[\\'graph_msg\\']}\")\\nreturn {\"graph_msg\": state[\"graph_msg\"] + \" node_01\"}`\\n\\n上記のように、ノードは状態に対して何らかの操作を行い、その結果を返します。状態が更新されることで、エージェントは次のノードでの処理を続けることができます。\\n\\n状態の構築\\n\\n次に、状態（State）を定義し、各ノードがどのように状態を変更するかを考えます。 状態には、エージェントの実行中に必要な情報がすべて含まれています。\\n\\n`from typing import TypedDict\\nclass State(TypedDict):\\ngraph_msg: str` [...] `# ノードの例\\ndef node_01(state: State):\\nprint(f\"node_01: {state[\\'graph_msg\\']}\")\\nreturn {\"graph_msg\": state[\"graph_msg\"] + \"node_01\"}\\ndef node_02(state: State):\\nprint(f\"node_02: {state[\\'graph_msg\\']}\")\\nreturn {\"graph_msg\": state[\"graph_msg\"] + \"node_02\"}\\ndef node_03(state: State):\\nprint(f\"node_03: {state[\\'graph_msg\\']}\")\\nreturn {\"graph_msg\": state[\"graph_msg\"] + \"node_03\"}`\\n\\n各ノードは、状態（State）を変更し、それを次のノードに渡すことでエージェント全体の振る舞いをコントロールします。🔬\\n\\nエッジ（Edge）\\n\\nエッジは、ノード同士をつなぐもので、グラフの中でどのノードが次に実行されるかを定義します。'},\n",
       " {'url': 'https://masa-engineer-lab.com/langgraph_introduction/184/',\n",
       "  'content': '【LangGraph入門】基本の使い方と簡単なグラフ作成｜エンジニアライフ\\n\\nMasa Ennginer BLOG\\n\\n | ステートは、ワークフロー全体で保持されるデータの集合を指します。 ノード間でデータを引き渡し、変更しながらワークフローを進行させる役割を担います。 ステートは通常、辞書型やPydanticの`BaseModel`などで定義され、各ノードのアクションを通じて更新されます。 |\\n| ノード(Node) | ノードは、ワークフロー内の処理単位です。 それぞれのノードには独自のアクション（関数）が定義され、入力されたステートをもとに処理を実行します。 たとえば、データの変換や条件判定などが含まれます。 |\\n| エッジ(Edge) | エッジは、ノード間の接続を表します。 データ（ステート）がどの順序でノードを通過するかを制御し、分岐や終了条件などのロジックを実現します。 単純な直列接続だけでなく、条件付きエッジを用いることで、動的かつ複雑なワークフロー設計が可能です。 |\\n\\n構成イメージは以下の通りです。\\n\\nImage 2\\n単純なグラフの作り方 [...] Copy\\n\\nまとめ\\n\\n今回は、LangGraphについて概要から、簡単な使い方を確認しました。\\n\\nLangGraphを活用すれば、マルチエージェントを簡単に実装することができます。\\n\\n今回は、単純にLLMを使用した回答エージェントをノード化して、いくつもつなぐ検証をしましたが、ノードについてはRAGを活用したり、外部APIを活用したりできます。\\n\\n複数のノードを構成する複雑なグラフを作成することで多様なタスクをこなせるマルチエージェントシステムが作れそうです。\\n\\n今後も引き続きLangGraphについて、調査していこうと思います。\\n\\nABOUT ME\\n\\nImage 5\\n\\nまさ\\n\\nエンジニア歴10年以上。 現在は、フリーランスエンジニアとして、業務系システムの開発に従事しています。 Pythonを用いたWebアプリ開発、ChatGPT APIを用いたアプリ開発をメインに行っています。\\n\\nBLOG：\\n\\n1.   [](\\n2.   [](\\n3.   [](\\n4.   [](\\n5.   [](\\n\\nRELATED POST'}]"
      ]
     },
     "execution_count": 4,
     "metadata": {},
     "output_type": "execute_result"
    }
   ],
   "source": [
    "tool.invoke(\"Langgraphのノードとは？\")"
   ]
  },
  {
   "cell_type": "code",
   "execution_count": 5,
   "id": "96367fca",
   "metadata": {},
   "outputs": [
    {
     "data": {
      "text/plain": [
       "<langgraph.graph.state.StateGraph at 0x117231be0>"
      ]
     },
     "execution_count": 5,
     "metadata": {},
     "output_type": "execute_result"
    }
   ],
   "source": [
    "from typing import Annotated\n",
    "from typing_extensions import TypedDict\n",
    "from langgraph.graph import StateGraph\n",
    "from langgraph.graph.message import add_messages\n",
    "\n",
    "# Stateクラスの定義\n",
    "class State(TypedDict):\n",
    "    messages: Annotated[list, add_messages]\n",
    "\n",
    "# グラフのインスタンスを作成\n",
    "graph_builder = StateGraph(State)\n",
    "\n",
    "# 言語モデルの定義\n",
    "llm = ChatOpenAI(model_name=MODEL_NAME)\n",
    "\n",
    "# 変更点：ツール定義の紐づけ\n",
    "llm_with_tools = llm.bind_tools(tools)\n",
    "\n",
    "# チャットボットノードの作成\n",
    "def chatbot(state: State):\n",
    "    return {\"messages\": [llm_with_tools.invoke(state[\"messages\"])]}\n",
    "\n",
    "# グラフにチャットボットノードを追加\n",
    "graph_builder.add_node(\"chatbot\", chatbot)"
   ]
  },
  {
   "cell_type": "code",
   "execution_count": 6,
   "id": "357e183e",
   "metadata": {},
   "outputs": [],
   "source": [
    "from langgraph.prebuilt import ToolNode, tools_condition\n",
    "from langgraph.checkpoint.memory import MemorySaver\n",
    "\n",
    "# ツールノードの作成\n",
    "tool_node = ToolNode(tools)\n",
    "\n",
    "# グラフにツールノードを追加\n",
    "graph_builder.add_node(\"tools\", tool_node)\n",
    "\n",
    "# 条件付エッジの作成\n",
    "graph_builder.add_conditional_edges(\n",
    "    \"chatbot\",\n",
    "    tools_condition, # ツール呼出と判断したらツールノードを呼ぶ\n",
    ")\n",
    "\n",
    "# ツールが呼び出されるたびに、チャットボットに戻って次のステップを決定\n",
    "# ツールからチャットボットへの戻りエッジを作成\n",
    "graph_builder.add_edge(\"tools\", \"chatbot\")\n",
    "\n",
    "# 開始ノードの指定\n",
    "graph_builder.set_entry_point(\"chatbot\")\n",
    "\n",
    "# 記憶を持つ実行可能なステートグラフの作成\n",
    "memory = MemorySaver()\n",
    "graph = graph_builder.compile(checkpointer=memory)"
   ]
  },
  {
   "cell_type": "code",
   "execution_count": 7,
   "id": "5d27c753",
   "metadata": {},
   "outputs": [
    {
     "data": {
      "image/png": "[encoded data removed]",
      "text/plain": [
       "<IPython.core.display.Image object>"
      ]
     },
     "metadata": {},
     "output_type": "display_data"
    }
   ],
   "source": [
    "# グラフの可視化\n",
    "from IPython.display import Image, display\n",
    "\n",
    "display(Image(graph.get_graph().draw_mermaid_png()))"
   ]
  },
  {
   "cell_type": "code",
   "execution_count": 8,
   "id": "68c6bdda",
   "metadata": {},
   "outputs": [
    {
     "name": "stdout",
     "output_type": "stream",
     "text": [
      "こんにちは！\n",
      "こんにちは！今日はどんなことをお手伝いできますか？\n",
      "1足す2は？\n",
      "1足す2は3です。何か他に知りたいことがありますか？\n",
      "1メートル以上の魚は？\n",
      "\n",
      "[{\"url\": \"https://www.nacsj.or.jp/2022/09/31920/\", \"content\": \"サーフゾーンに現れる魚の大きさは，生まれたての数ミリ程度のものから1 mを越えるものまで様々です。例えば，吹上浜で26 m型の地曳網で採集された52,946個体のうち全長49 mm以下の個体は46.3％，50〜99 mmは41.5％，100〜199 mmは10.7％，200〜299 mmは1.3％，300 mm以上は0.2％でした（須田データ）。個体数はごくわずかですが500 mmを超える個体（アカエイ，ダツ，ハマダツ，スズキ）も採集され，最大はアカエイの1,200 mmでした。これまでの研究の多くが比較的小型の器具を使ったものだったため，サーフゾーンには大型魚が出現しないという誤解が専門家の間にもありますが，そうではないのです。実際，漁業としての地曳網漁は売り物サイズの魚を捕りますし，世界各地では1 mを超える大型のニベ類が投げ釣りの好対象になっています。場所によっては，人に危害を加えるような大きさのサメがサーフゾーンに来遊することもあります。オーストラリアで行われた，大型魚の採集を目的に漁業用の刺し網を使った研究では，採集された魚類の平均全長が，真骨魚類では444\"}, {\"url\": \"https://tsurihack.com/8448\", \"content\": \"どの魚も、陸っぱりで狙えて最大全長が1mを超えるものばかり！\\n\\nお住まいの地域にこれからリストアップする魚が生息していたら、狙ってみてはいかがでしょうか。\\n\\n鯉｜もっとも手軽で簡単な大物\\n\\n難易度：★☆☆｜平均70cm、1m超えれば超絶レア\\n魚釣り初心者の方にオススメしたいのは食パンを使ったコイ釣りです！\\n\\n安・近・短で手軽に釣ることができ、ボウズ（釣果ゼロ）で終わってしまうリスクも少ないのがパンコイゲームの魅力ですね。\\n\\n▼食パンを使ったコイの釣り方はこちら！\\n針と餌だけのカンタン仕掛けで巨大魚が釣れる！？“パン鯉”に子供と挑戦してみました2023/04/27釣り好き！まっちゃん\\n\\n針と餌だけのカンタン仕掛けで巨大魚が釣れる！？“パン鯉”に子供と挑戦してみました\\n\\n2023/04/27釣り好き！まっちゃん\\n\\n1mを超えるコイは超絶レアですよ！\\n\\n身近な川魚のコイといえども最大サイズは1ｍを優に超え、コイを専門に狙う釣り人にとってメーター超えの巨鯉は一生に1匹でも良いから釣ってみたい憧れのサイズです。 [...] 最大で1mに迫るような大物を釣り狙う場合、例え身近な魚であっても釣り具の強度や仕掛け、ルアーの種類などをしっかり選ぶ必要があります。\\n\\n『この魚を釣ってみたい！』という確固たる目標を持って挑戦していく過程が大物釣り最大の醍醐味であり、準備や試行錯誤の期間が長い程、目標を手にした瞬間、つまり大物を釣り上げた瞬間の感動と達成感はなんとも言葉に表すことができないものになってきます。\\n\\n全身が震えたり、感情を抑えられず雄たけびやガッツポーズが出ちゃったりする……そんな体験を大人になっても味わえる。それが魚釣りの良い所だと僕は思っています。\\n\\n大物を釣り上げるまでの3ステップをお伝えします\\n\\nどんな大物を釣りたいか決めましょう\\n\\nまずは、自分の目標とする魚を設定しましょう。魚種でも良いですし、この魚の何センチ以上！　とかでも素敵な目標だと思います。\\n\\n他人に認められる魚とか、SNSでイイネをたくさんもらえそうな魚とかでも良いかもしれませんが、大切なのは、“自分が釣ってみたい魚や大きさ”を意識すること。\\n\\n僕はいつも、自分の好奇心と探求心を一番大切にするように心がけています。 [...] 魚の力強さを体感できる\\n\\n大物釣りの魅力のひとつに、魚達の力強さを一本の釣り糸を通して体感できることがあります。\\n\\nとくに1m、10kgを超えるような魚の重量感溢れるファイトで、身体が引っ張られるような感覚を一度味わうと病みつきになってしまいます。\\n\\nもちろん、魚の引きの強度やランディングに至るまでの難易度は魚種によってさまざま。今回の記事では、難易度別に魅力的な大物をご紹介していきます。\\n\\nまずは、僕が思う大物釣りの魅力からお届けします！\\n\\n迫力満点な写真が撮れます\\n\\n釣り上げた魚を抱えて撮る、記念写真も大物釣りの醍醐味のひとつと言えるでしょう。\\n\\n自分なりに苦労したり試行錯誤して釣り上げた大物の写真って、時間が経っても見返したくなるものです。\\n\\n時には魚体が大きすぎて陸に揚げられず、自ら水中に入って写真を撮るなんてこともよくあります。\\n\\n大物を狙っていると、“イッピキの価値に気が付くキッカケになり、釣り上げた魚を大切に扱いたい”と価値観が変わることもありますよ。\\n\\n“目標を持った魚釣りの魅力”をお伝えしたい\"}]\n",
      "1メートル以上の魚には、いくつかの種類があります。以下はそのいくつかの例です：\n",
      "\n",
      "1. **コイ**: 一般的に、コイは平均70cm程度ですが、1mを超えるサイズも存在します。特に釣り人にとっては、メーター超えの巨鯉は憧れの存在です。\n",
      "\n",
      "2. **アカエイ**: 最大サイズは1,200mm（1.2メートル）に達することがあります。地曳網などで採集されることがあります。\n",
      "\n",
      "3. **サメ**: 一部のサメは、サーフゾーンに出現し、人に危害を加えるような大きさになることもあります。\n",
      "\n",
      "これらの魚は、環境によって異なるサイズや生息地がありますが、釣りの対象としても人気があります。もっと詳しい情報が知りたい場合は、以下のリンクを参考にしてください。\n",
      "\n",
      "- [サーフゾーンに現れる魚についての詳細](https://www.nacsj.or.jp/2022/09/31920/)\n",
      "- [釣りに最適な大物魚の情報](https://tsurihack.com/8448)\n",
      "\n",
      "他に何かお手伝いできることがありますか？\n",
      "ありがとうございました!\n"
     ]
    }
   ],
   "source": [
    "# グラフの実行と結果の表示\n",
    "def stream_graph_updates(user_input: str):\n",
    "    events = graph.stream(\n",
    "        {\"messages\": [(\"user\", user_input)]},\n",
    "        {\"configurable\": {\"thread_id\": \"1\"}},\n",
    "        stream_mode=\"values\")\n",
    "    # 結果をストリーミングで得る\n",
    "    for event in events:\n",
    "        print(event[\"messages\"][-1].content, flush=True)\n",
    "\n",
    "# チャットボットのループ\n",
    "while True:\n",
    "    user_input = input(\"質問:\")\n",
    "    if user_input.strip()==\"\":\n",
    "        print(\"ありがとうございました!\")\n",
    "        break\n",
    "    stream_graph_updates(user_input)"
   ]
  }
 ],
 "metadata": {
  "kernelspec": {
   "display_name": ".venv",
   "language": "python",
   "name": "python3"
  },
  "language_info": {
   "codemirror_mode": {
    "name": "ipython",
    "version": 3
   },
   "file_extension": ".py",
   "mimetype": "text/x-python",
   "name": "python",
   "nbconvert_exporter": "python",
   "pygments_lexer": "ipython3",
   "version": "3.12.10"
  }
 },
 "nbformat": 4,
 "nbformat_minor": 5
}
