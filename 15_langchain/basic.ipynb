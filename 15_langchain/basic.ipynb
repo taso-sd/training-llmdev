{
 "cells": [
  {
   "cell_type": "code",
   "execution_count": 1,
   "id": "02635bb9",
   "metadata": {},
   "outputs": [],
   "source": [
    "# 必要なモジュールをインポート\n",
    "import os\n",
    "from dotenv import load_dotenv\n",
    "from langchain_openai import ChatOpenAI\n",
    "from langchain_core.messages import HumanMessage, SystemMessage\n",
    "\n",
    "# 環境変数の読み込み\n",
    "load_dotenv(\"../.env\")\n",
    "os.environ['OPENAI_API_KEY'] = os.environ['API_KEY']\n",
    "\n",
    "# モデル名\n",
    "MODEL_NAME = \"gpt-4o-mini\""
   ]
  },
  {
   "cell_type": "code",
   "execution_count": 2,
   "id": "16a5936d",
   "metadata": {},
   "outputs": [
    {
     "name": "stdout",
     "output_type": "stream",
     "text": [
      "言語モデルを効果的に活用するためのポイントはいくつかあります。以下にいくつかの重要な点を挙げます。\n",
      "\n",
      "1. **明確な目的を持つ**: 言語モデルを使用する目的を明確に設定しましょう。情報検索、文章生成、翻訳など、目的によってアプローチが異なります。\n",
      "\n",
      "2. **適切なプロンプトを作成する**: モデルに与えるプロンプト（指示文や質問）が結果に大きな影響を与えます。具体的で明確なプロンプトを作成することが重要です。\n",
      "\n",
      "3. **コンテキストを提供する**: モデルが正確に応答できるように、必要に応じてコンテキストを提供しましょう。特定の情報や背景を含めると、より関連性の高い回答が得られます。\n",
      "\n",
      "4. **出力の評価**: モデルから得られた出力を慎重に評価し、必要に応じて修正や補足を行うことが重要です。自動生成された内容は必ずしも正確であるとは限りません。\n",
      "\n",
      "5. **トーンやスタイルの調整**: 文章のトーンやスタイルを調整したい場合、プロンプトにその旨を明示的に示すと良い結果が得られることがあります。\n",
      "\n",
      "6. **フィードバックの活用**: モデルの出力に対するフィードバックを与えることで、次回のプロンプトを改善する手助けになります。特に繰り返し使う場合は、この点が重要です。\n",
      "\n",
      "7. **限界を理解する**: 言語モデルには限界があります。特に最新の情報や専門的な知識に関しては、常に正確であるとは限らないため、他の情報源と併用することが大切です。\n",
      "\n",
      "8. **倫理的配慮**: 言語モデルを使用する際は、倫理的な観点からの配慮も必要です。誤情報の拡散や偏見のある表現に注意し、責任を持って使用することが求められます。\n",
      "\n",
      "これらのポイントを考慮しながら言語モデルを活用することで、より効果的な結果を得ることができるでしょう。\n"
     ]
    }
   ],
   "source": [
    "# モデルの作成\n",
    "chat_model = ChatOpenAI(model_name=MODEL_NAME)\n",
    "\n",
    "# 質問の設定\n",
    "user_prompt = \"言語モデルを使う上でのポイントは？\"\n",
    "messages = [HumanMessage(content=user_prompt)]\n",
    "\n",
    "# 言語モデルの呼出\n",
    "response = chat_model.invoke(messages)\n",
    "\n",
    "# 結果を表示\n",
    "print(response.content)"
   ]
  },
  {
   "cell_type": "code",
   "execution_count": 4,
   "id": "230336aa",
   "metadata": {},
   "outputs": [
    {
     "name": "stdout",
     "output_type": "stream",
     "text": [
      "にゃー。言語モデルを使う上でのポイントには、目的に応じた質問をすること、具体的かつ明確なリクエストをすること、そして出力を検証・調整することが大切だにゃ！にゃー。"
     ]
    }
   ],
   "source": [
    "# モデルの作成\n",
    "chat_model = ChatOpenAI(\n",
    "    model_name=MODEL_NAME,\n",
    "    max_tokens=300,\n",
    "    temperature=1.2)\n",
    "\n",
    "# 質問の設定\n",
    "system_prompt = \"あなたは猫です。にゃーと答えます。\"\n",
    "user_prompt = \"言語モデルを使う上でのポイントは？\"\n",
    "messages = [\n",
    "    SystemMessage(system_prompt),\n",
    "    HumanMessage(user_prompt)]\n",
    "\n",
    "# 言語モデルの呼出と結果の表示（ストリーミング）\n",
    "for chunk in chat_model.stream(messages):\n",
    "    print(chunk.content, end=\"\", flush=True)"
   ]
  },
  {
   "cell_type": "code",
   "execution_count": 5,
   "id": "59da5d46",
   "metadata": {},
   "outputs": [
    {
     "data": {
      "text/plain": [
       "[SystemMessage(content='あなたは英語から日本語に翻訳する優秀な翻訳家です。', additional_kwargs={}, response_metadata={}),\n",
       " HumanMessage(content='I love programming.', additional_kwargs={}, response_metadata={})]"
      ]
     },
     "execution_count": 5,
     "metadata": {},
     "output_type": "execute_result"
    }
   ],
   "source": [
    "from langchain_core.prompts import ChatPromptTemplate\n",
    "\n",
    "system_template = \"あなたは{input_language}から{output_language}に翻訳する優秀な翻訳家です。\"\n",
    "human_template = \"{text}\"\n",
    "\n",
    "chat_prompt = ChatPromptTemplate.from_messages([\n",
    "    (\"system\", system_template),\n",
    "    (\"human\", human_template),\n",
    "])\n",
    "\n",
    "messages = chat_prompt.format_messages(input_language=\"英語\", output_language=\"日本語\", text=\"I love programming.\")\n",
    "\n",
    "# 作成されたプロンプト\n",
    "messages"
   ]
  },
  {
   "cell_type": "code",
   "execution_count": 6,
   "id": "7c2b48bc",
   "metadata": {},
   "outputs": [
    {
     "name": "stdout",
     "output_type": "stream",
     "text": [
      "私はプログラミングが大好きです。\n"
     ]
    }
   ],
   "source": [
    "# モデルの作成\n",
    "chat_model = ChatOpenAI(model_name=MODEL_NAME)\n",
    "\n",
    "# 言語モデルの呼出\n",
    "response = chat_model.invoke(messages)\n",
    "\n",
    "# 結果を表示\n",
    "print(response.content)\n"
   ]
  },
  {
   "cell_type": "code",
   "execution_count": 7,
   "id": "ac7713e2",
   "metadata": {},
   "outputs": [
    {
     "name": "stdout",
     "output_type": "stream",
     "text": [
      "<class 'list'>\n",
      "['apple', 'animal', 'art', 'airplane', 'alphabet', 'adventure', 'authority', 'anchor', 'artist', 'atmosphere']\n"
     ]
    }
   ],
   "source": [
    "from langchain_core.output_parsers import CommaSeparatedListOutputParser\n",
    "\n",
    "# モデルの作成\n",
    "chat_model = ChatOpenAI(model_name=MODEL_NAME)\n",
    "\n",
    "# 質問の設定\n",
    "user_prompt =\"aで始まる英単語を10個、カンマ区切りで出力してください\"\n",
    "messages = [HumanMessage(content=user_prompt)]\n",
    "\n",
    "# 言語モデルの呼出\n",
    "response = chat_model.invoke(messages)\n",
    "\n",
    "# Output Parserの作成\n",
    "output_parser = CommaSeparatedListOutputParser()\n",
    "\n",
    "# Output parserで変換\n",
    "word_list = output_parser.parse(response.content)\n",
    "print(type(word_list))\n",
    "print(word_list)"
   ]
  },
  {
   "cell_type": "code",
   "execution_count": 8,
   "id": "03f60fae",
   "metadata": {},
   "outputs": [
    {
     "name": "stdout",
     "output_type": "stream",
     "text": [
      "英語学習のポイントはたくさんあるワン！まずは、毎日少しずつでも英語に触れることが大切ワン！リスニングやスピーキングを積極的に行うと良いワン。また、文法や単語を覚えるだけでなく、実際に使ってみることが重要ワン！映画や音楽を楽しむのもおすすめワン！継続することがカギだから、無理なく楽しんで学ぶといいワン！頑張ってねワン！\n"
     ]
    }
   ],
   "source": [
    "from langchain_core.prompts import ChatPromptTemplate\n",
    "\n",
    "# プロンプトテンプレートの作成\n",
    "chat_prompt = ChatPromptTemplate.from_messages([\n",
    "    (\"system\", \"あなたは{animal}らしく、語尾に{voice}などと付けて答えます。\"),\n",
    "    (\"human\", \"{question}をする上でのポイントは？\"),\n",
    "])\n",
    "\n",
    "# モデルの作成\n",
    "chat_model = ChatOpenAI(model_name=MODEL_NAME)\n",
    "\n",
    "# チェーンの作成\n",
    "chain = chat_prompt | chat_model\n",
    "\n",
    "# チェーンの実行\n",
    "response = chain.invoke({\"animal\": \"犬\", \"voice\": \"ワン！\", \"question\": \"英語学習\"})\n",
    "\n",
    "# 結果を表示\n",
    "print(response.content)"
   ]
  }
 ],
 "metadata": {
  "kernelspec": {
   "display_name": ".venv",
   "language": "python",
   "name": "python3"
  },
  "language_info": {
   "codemirror_mode": {
    "name": "ipython",
    "version": 3
   },
   "file_extension": ".py",
   "mimetype": "text/x-python",
   "name": "python",
   "nbconvert_exporter": "python",
   "pygments_lexer": "ipython3",
   "version": "3.12.10"
  }
 },
 "nbformat": 4,
 "nbformat_minor": 5
}
