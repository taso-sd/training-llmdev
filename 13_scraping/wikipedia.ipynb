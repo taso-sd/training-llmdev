{
 "cells": [
  {
   "cell_type": "code",
   "execution_count": 2,
   "id": "0f7a4bfa",
   "metadata": {},
   "outputs": [],
   "source": [
    "import requests\n",
    "\n",
    "# Wikipedia日本語版のAPIエンドポイント\n",
    "WIKI_API_URL = \"https://ja.wikipedia.org/w/api.php\"\n",
    "\n",
    "# 検索キーワードに該当するWikipediaページを取得する関数\n",
    "def fetch_search_results(keyword, limit=10):\n",
    "    params = {\n",
    "        \"action\": \"query\",\n",
    "        \"list\": \"search\",\n",
    "        \"srsearch\": keyword,\n",
    "        \"format\": \"json\",\n",
    "        \"srlimit\": limit\n",
    "    }\n",
    "\n",
    "    try:\n",
    "        response = requests.get(WIKI_API_URL, params=params)\n",
    "        response.raise_for_status()\n",
    "        data = response.json()\n",
    "        return data.get(\"query\", {}).get(\"search\", [])\n",
    "    except requests.RequestException as e:\n",
    "        print(\"検索リクエストでエラーが発生しました:\", e)\n",
    "        return []\n",
    "\n",
    "# 指定されたタイトルのページ内容を取得する関数\n",
    "def fetch_page_content(title):\n",
    "    params = {\n",
    "        \"action\": \"query\",\n",
    "        \"format\": \"json\",\n",
    "        \"titles\": title,\n",
    "        \"prop\": \"extracts\",\n",
    "        \"explaintext\": True\n",
    "    }\n",
    "\n",
    "    try:\n",
    "        response = requests.get(WIKI_API_URL, params=params)\n",
    "        response.raise_for_status()\n",
    "        data = response.json()\n",
    "        page = next(iter(data.get(\"query\", {}).get(\"pages\", {}).values()), {})\n",
    "        return page.get(\"extract\", \"ページ内容が見つかりません。\")\n",
    "    except requests.RequestException as e:\n",
    "        print(\"ページ内容取得でエラーが発生しました:\", e)\n",
    "        return \"ページ内容が取得できませんでした。\""
   ]
  },
  {
   "cell_type": "code",
   "execution_count": 3,
   "id": "bf52ad79",
   "metadata": {},
   "outputs": [
    {
     "name": "stdout",
     "output_type": "stream",
     "text": [
      "【キーワードに該当するページ一覧】\n",
      "- Python\n",
      "- モンティ・パイソン\n",
      "- IronPython\n",
      "\n",
      "【最初のページタイトル】\n",
      "Python\n",
      "\n",
      "【ページ内容】\n",
      "Python（パイソン）はインタープリタ型の高水準汎用プログラミング言語である。\n",
      "\n",
      "\n",
      "== 概要 ==\n",
      "Pythonは1991年にグイド・ヴァン・ロッサムにより開発されたプログラミング言語である。\n",
      "最初にリリースされたPythonの設計哲学は、ホワイトスペース（オフサイドルール）の顕著な使用によってコードの可読性を重視している。その言語構成とオブジェクト指向のアプローチは、プログラマが小規模なプロジェクトから大規模なプロジェクトまで、明確で論理的なコードを書くのを支援することを目的としている。\n",
      "Pythonは動的に型付けされていて、ガベージコレクションされている。構造化（特に手続き型）、オブジェクト指向、関数型プログラミングを含む複数のプログラミングパラダイムをサポートしている。Pythonは、その包括的な標準ライブラリのため、しばしば「バッテリーを含む」言語と表現されている。\n",
      "Pythonのインタプリタは多くのOSに対応している。プログラマーのグローバルコミュニティは、自由かつオープンソース  のリファレンス実装であるCPythonを開発および保守している 。非営利団体であるPyth\n"
     ]
    }
   ],
   "source": [
    "# テストコードで確認\n",
    "keyword = \"Python\"\n",
    "\n",
    "# キーワードに該当するページ一覧を取得\n",
    "search_results = fetch_search_results(keyword)\n",
    "if search_results:\n",
    "    print(\"【キーワードに該当するページ一覧】\")\n",
    "    for result in search_results[:3]:\n",
    "        print(f\"- {result['title']}\")\n",
    "\n",
    "    # 最初のページタイトルを取得\n",
    "    first_title = search_results[0][\"title\"]\n",
    "    print(\"\\n【最初のページタイトル】\")\n",
    "    print(first_title)\n",
    "\n",
    "    # 最初のページの内容を取得\n",
    "    page_content = fetch_page_content(first_title)\n",
    "    print(\"\\n【ページ内容】\")\n",
    "    print(page_content[:500])\n",
    "else:\n",
    "    print(\"検索結果が見つかりません。\")"
   ]
  },
  {
   "cell_type": "code",
   "execution_count": 4,
   "id": "90ccd206",
   "metadata": {},
   "outputs": [],
   "source": [
    "# 必要なモジュールをインポート\n",
    "import os\n",
    "from dotenv import load_dotenv\n",
    "from openai import OpenAI\n",
    "\n",
    "# 環境変数の取得\n",
    "load_dotenv(\"../.env\")\n",
    "\n",
    "# OpenAI APIクライアントを生成\n",
    "client = OpenAI(api_key=os.environ['API_KEY'])\n",
    "\n",
    "# モデル名\n",
    "MODEL_NAME = \"gpt-4o-mini\""
   ]
  },
  {
   "cell_type": "code",
   "execution_count": 5,
   "id": "6118250c",
   "metadata": {},
   "outputs": [],
   "source": [
    "# 要約を行うプロンプトを作成\n",
    "prompt = f\"\"\"\n",
    "以下の文章を要約してください。\n",
    "\n",
    "# 条件：\n",
    "- 小学生にもわかるように\n",
    "- 300文字程度\n",
    "\n",
    "# 文章：\n",
    "{page_content[:1000]}\n",
    "\"\"\"\n",
    "\n",
    "# APIへリクエスト\n",
    "response = client.chat.completions.create(\n",
    "    model=MODEL_NAME,\n",
    "    messages=[\n",
    "        {\"role\": \"user\", \"content\": prompt},\n",
    "    ],\n",
    "    max_tokens=500,\n",
    "    temperature=0.3\n",
    ")"
   ]
  },
  {
   "cell_type": "code",
   "execution_count": 6,
   "id": "fc042a4c",
   "metadata": {},
   "outputs": [
    {
     "name": "stdout",
     "output_type": "stream",
     "text": [
      "Python（パイソン）は、1991年にグイド・ヴァン・ロッサムによって作られたプログラミング言語です。この言語は、コードが読みやすくなるように設計されていて、プログラマーが簡単に理解できるように工夫されています。Pythonは、いろいろなプログラミングのスタイルに対応していて、特にオブジェクト指向という方法が使われています。\n",
      "\n",
      "Pythonの特徴には、動的に型を決めることや、不要になったデータを自動で片付けるガベージコレクションがあります。また、たくさんの便利な機能が用意されていて、必要なものをインターネットから追加でダウンロードできます。Pythonは、シンプルで効率的なコードを書くことを大切にしていて、「一つの良いやり方がある」という考え方を持っています。これにより、プログラミングを始める人にも優しい言語となっています。\n"
     ]
    }
   ],
   "source": [
    "# LLMからの回答を表示\n",
    "print(response.choices[0].message.content.strip())"
   ]
  }
 ],
 "metadata": {
  "kernelspec": {
   "display_name": ".venv",
   "language": "python",
   "name": "python3"
  },
  "language_info": {
   "codemirror_mode": {
    "name": "ipython",
    "version": 3
   },
   "file_extension": ".py",
   "mimetype": "text/x-python",
   "name": "python",
   "nbconvert_exporter": "python",
   "pygments_lexer": "ipython3",
   "version": "3.12.10"
  }
 },
 "nbformat": 4,
 "nbformat_minor": 5
}
