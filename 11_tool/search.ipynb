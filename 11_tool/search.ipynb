{
 "cells": [
  {
   "cell_type": "code",
   "execution_count": 1,
   "id": "426933f1",
   "metadata": {},
   "outputs": [],
   "source": [
    "# 必要なモジュールをインポート\n",
    "import os\n",
    "import json\n",
    "from dotenv import load_dotenv\n",
    "from openai import OpenAI\n",
    "from openai.types.chat import ChatCompletionToolParam\n",
    "from tavily import TavilyClient\n",
    "\n",
    "# 環境変数の取得\n",
    "load_dotenv(\"../.env\")\n",
    "\n",
    "# OpenAI APIクライアントを生成\n",
    "client = OpenAI(api_key=os.environ['API_KEY'])\n",
    "\n",
    "# tavily検索用APIキーの取得\n",
    "TAVILY_API_KEY = os.environ['TAVILY_API_KEY']\n",
    "\n",
    "# モデル名\n",
    "MODEL_NAME = \"gpt-4o-mini\""
   ]
  },
  {
   "cell_type": "code",
   "execution_count": 2,
   "id": "dfbe252f",
   "metadata": {},
   "outputs": [],
   "source": [
    "# 検索結果を返す関数の作成\n",
    "def get_search_result(question):\n",
    "    client = TavilyClient(api_key=TAVILY_API_KEY)\n",
    "    response = client.search(question)\n",
    "    return json.dumps({\"result\": response[\"results\"]})"
   ]
  },
  {
   "cell_type": "code",
   "execution_count": 3,
   "id": "ec6ed9c8",
   "metadata": {},
   "outputs": [
    {
     "data": {
      "text/plain": [
       "{'result': [{'url': 'https://www.walkerplus.com/event_list/ar0313/sc309880d/',\n",
       "   'title': '東京駅(東京都)周辺のイベント - ウォーカープラス',\n",
       "   'content': '開催中 2025年3月20日(祝)～6月3日(火) 京橋駅(東京都), 宝町駅(東京都), 日本橋駅(東京都), 銀座一丁目駅(東京都), 東京駅(東京都) CREATIVE MUSEUM TOKYO(クリエイティブ ミュージアム トウキョウ) *   [美術展・博物展](https://www.walkerplus.com/event_list/eg0107/) 開催中 2025年3月20日(祝)～6月3日(火) 京橋駅(東京都), 宝町駅(東京都), 日本橋駅(東京都), 銀座一丁目駅(東京都), 東京駅(東京都) CREATIVE MUSEUM TOKYO(クリエイティブ ミュージアム トウキョウ) *   [グルメ・フードフェス](https://www.walkerplus.com/event_list/eg0117/) *   ![Image 6](https://www.walkerplus.com/asset/images/common/ico_charge.svg) 終了間近 2025年4月1日(火)～5月31日(土) 東京駅(東京都), 二重橋前駅(東京都), 京橋駅(東京都), 大手町駅(東京都), 有楽町駅(東京都) *   [グルメ・フードフェス](https://www.walkerplus.com/event_list/eg0117/) *   ![Image 8](https://www.walkerplus.com/asset/images/common/ico_parking.svg) 2025年4月5日(土)～6月15日(日) 東京駅(東京都), 二重橋前駅(東京都), 大手町駅(東京都), 日本橋駅(東京都), 京橋駅(東京都) *   [美術展・博物展](https://www.walkerplus.com/event_list/eg0107/) 2025年3月1日(土)～6月1日(日) 京橋駅(東京都), 宝町駅(東京都), 日本橋駅(東京都), 東京駅(東京都), 銀座一丁目駅(東京都) *   [美術展・博物展](https://www.walkerplus.com/event_list/eg0107/) 開催中 2025年4月16日(水)～11月5日(水) 日本橋駅(東京都), 京橋駅(東京都), 茅場町駅(東京都), 宝町駅(東京都), 東京駅(東京都) *   [グルメ・フードフェス](https://www.walkerplus.com/event_list/eg0117/) *   ![Image 12](https://www.walkerplus.com/asset/images/common/ico_parking.svg) 2025年3月1日(土)～6月1日(日) 京橋駅(東京都), 宝町駅(東京都), 日本橋駅(東京都), 東京駅(東京都), 銀座一丁目駅(東京都) *   [美術展・博物展](https://www.walkerplus.com/event_list/eg0107/) 開催中 2025年5月1日(木)～6月30日(月) 東京駅(東京都), 日本橋駅(東京都), 大手町駅(東京都), 京橋駅(東京都), 三越前駅(東京都) *   [グルメ・フードフェス](https://www.walkerplus.com/event_list/eg0117/) *   ![Image 15](https://www.walkerplus.com/asset/images/common/ico_parking.svg) 2025年5月29日(木)～9月7日(日) *   [美術展・博物展](https://www.walkerplus.com/event_list/eg0107/) *   [映画イベント](https://www.walkerplus.com/event_list/eg0110/) *   [ライブ・音楽イベント](https://www.walkerplus.com/event_list/eg109/) *   ![Image 18](https://www.walkerplus.com/asset/images/common/ico_parking.svg) CREATIVE MUSEUM TOKYO(クリエイティブ ミュージアム トウキョウ) YEBISU BREWERY TOKYO(ヱビス ブルワリー トウキョウ) {{/ is_event }} {{# is_spot }} *    {{ name }} {{ pref_name }}{{ city_name }}',\n",
       "   'score': 0.8127637,\n",
       "   'raw_content': None},\n",
       "  {'url': 'https://www.enjoytokyo.jp/event/list/sta200101/its04/',\n",
       "   'title': '今日行ける！東京駅周辺のおすすめイベント',\n",
       "   'content': '東京都\\u3000千代田区 東京ビアホール＆ビアテラス14『TOKYO BEER WAVE』 東京ビアホール＆ビアテラス14『TOKYO BEER WAVE』 東京都\\u3000千代田区 2025/05/29(木) ～ 09/07(日) 東京都\\u3000文京区 伊勢丹 立川店：3/26〜4/15 国際フォーラム：7/14〜7/31 日本橋三越本店：8/6〜8/19 文京グリーンコート：9/1〜9/30 2025/06/13(金) ～ 06/26(木) ～ 2025/06/22(日) 2025/06/14(土) ～ 07/21(月・祝) ～ 2025/06/22(日) ～ 2025/06/22(日) 2025/05/27(火) ～ 09/23(火・祝) 東京都\\u3000港区 2025/05/12(月) ～ 09/07(日) 東京都\\u3000港区 2025/04/18(金) ～ 09/23(火・祝) 2025/01/18(土) ～ ※上映日・上映時間は公式ウェブサイトよりご確認ください。 東京都\\u3000武蔵野市 2025/06/21(土) ～ 08/17(日) 東京都\\u3000武蔵野市 2025/06/06(金) ～ 07/06(日) ※期間中の金曜日、土曜日、日曜日に開催 Lounge ＆ Dining G／東京マリオットホテル 東京都・品川駅 ／ テラスレストラン Cafe & Dining ZelkovA／ザ ストリングス 表参道 東京都・表参道駅 ／ テラスレストラン 東京都・渋谷駅 ／ テラスレストラン 東京都・吉祥寺駅 ／ テラスレストラン 東京都・渋谷駅 ／ テラスレストラン 東京都・六本木一丁目駅 ／ テラスレストラン 東京都・京橋駅 ／ テラスレストラン 東京都・渋谷駅 ／ テラスレストラン 東京都・銀座一丁目駅 ／ テラスレストラン 東京都・表参道駅 ／ テラスレストラン 347 CAFE ＆ LOUNGE 東京都・渋谷駅 ／ テラスレストラン 東京都・神保町駅 ／ テラスレストラン 東京都・渋谷駅 ／ テラスレストラン 神奈川県・みなとみらい駅 ／ テラスレストラン 神奈川県・横浜駅 ／ テラスレストラン 千葉県・船橋駅 ／ テラスレストラン',\n",
       "   'score': 0.7144891,\n",
       "   'raw_content': None},\n",
       "  {'url': 'https://iko-yo.net/events?prefecture_ids%5B%5D=13&tags%5B%5D=%E6%9D%B1%E4%BA%AC%E9%A7%85&term=7',\n",
       "   'title': '東京都 東京駅の 子ども・親子おでかけ 今週末のイベント情報',\n",
       "   'content': '東京都（東京駅）のイベント[今週末]2025年8月23日(土)〜2025年8月24日(日) · 【東京駅・日本橋駅】円柱キャンドル · 【東京駅・日本橋駅】手作り♪季節のリース · 【東京駅・',\n",
       "   'score': 0.7092009,\n",
       "   'raw_content': None},\n",
       "  {'url': 'https://www.enjoytokyo.jp/event/list/area1306/',\n",
       "   'title': \"東京駅周辺・丸の内でおすすめのイベント - Let's ENJOY TOKYO\",\n",
       "   'content': '～ 2025/06/01(日) 休館日：月曜日（5月5日は開館）、5月7日 ～ 2025/06/01(日) ～ 2025/06/01(日) 休館日：月曜日（5月5日は開館）、5月7日 ～ 2025/06/03(火) ～ 2025/06/03(火) ～ 2025/06/03(火) 2025/05/29(木) ～ 09/07(日) 伊勢丹 立川店：3/26〜4/15 国際フォーラム：7/14〜7/31 日本橋三越本店：8/6〜8/19 文京グリーンコート：9/1〜9/30 2025/05/21(水) ～ 06/30(月) 熊本が誇る旬の逸品“春スイカ”を首都圏で楽しめる「熊本 春スイカ フェスタ」が開催！ 2025/04/08(火) ～ 07/27(日) 休室日：月曜日、7月8日(火)～13日(日) 2025/05/19(月) ～ 06/08(日) ～ 2025/05/31(土) 2025/06/21(土) ～ 06/22(日) 2025/06/21(土) ～ 06/22(日) 2026/02/07(土) ～ 05/24(日) 休館日：2026/02/16(月)、03/16(月)、04/13(月)、05/11(月) 20世紀北欧デザインの巨匠 スティグ・リンドベリ展 2025/08/20(水) ～ 09/07(日) 20世紀北欧デザインの巨匠 スティグ・リンドベリ展 20世紀北欧デザインの巨匠 スティグ・リンドベリの作品約300点を展示！ 2025/07/26(土) ～ 08/15(金) 2025/06/06(金) ～ 07/06(日) 2025/06/14(土) ～ 07/21(月・祝) 2025/05/31(土) ～ 06/01(日) ～ 2025/05/31(土) 2025/05/13(火) ～ 07/06(日) 休館日は月曜日。開映日時は作品によって異なる。 天空茶会第二十四葉 特別セミナー世界の茶産地を訪ねて セミナー午前の部\\u3000ネパールとの出会い 天空茶会第二十四葉 特別セミナー世界の茶産地を訪ねて セミナー午前の部\\u3000ネパールとの出会い 2025/07/15(火) ～ 08/24(日) 休館日は月曜日。開映日時は作品によって異なる。 2025/07/18(金) ～ 10/05(日) ～ 2025/06/01(日) 2025/06/07(土) ～ 06/15(日) 2025/05/30(金) ～ 06/01(日) 2025/01/18(土) ～ ※上映日・上映時間は公式ウェブサイトよりご確認ください。 2025/05/16(金) ～ 06/29(日) 2025/05/24(土) ～ 06/16(月) Lounge ＆ Dining G／東京マリオットホテル Cafe & Dining ZelkovA／ザ ストリングス 表参道 347 CAFE ＆ LOUNGE',\n",
       "   'score': 0.70847535,\n",
       "   'raw_content': None},\n",
       "  {'url': 'https://www.walkerplus.com/event_list/weekend/ar0313/',\n",
       "   'title': '東京都のイベント【今週末2025年8月23日(土)～2025年8月24日(日)】',\n",
       "   'content': 'Walker+ 次の楽しいが見つかる。 東京都東京都TOP # 東京都のイベント【今週末2025年6月7日(土)～2025年6月8日(日)】 折りたたむ 折りたたむ 全336件中1〜10件 もっと詳しい条件で絞り込む 開催中 2025年4月18日(金)～9月23日(祝) 東京都 港区 虎ノ門ヒルズ駅(東京都), 虎ノ門駅(東京都), 神谷町駅(東京都), 国会議事堂前駅(東京都), 六本木一丁目駅(東京都) TOKYO NODE GALLERY 累計116万人を動員した、デザインを体感する展覧会 駐車場 開催中 開催中～2025年6月25日(水) 東京都 港区 乃木坂駅(東京都), 六本木駅(東京都), 六本木一丁目駅(東京都), 青山一丁目駅(東京都) とらや 東京ミッドタウン店ギャラリー 子どもと一緒に楽しめる駄菓子の企画展 入場無料 開催中 2025年5月27日(火)～9月23日(祝) 東京都 品川区 天王洲アイル駅(東京都), 北品川駅(東京都), 新馬場駅(東京都) 東京・天王洲\\u3000寺田倉庫 B＆C HALL/E HALL ジブリ映画の世界を体感できる展覧会 開催中 2025年3月8日(土)～9月7日(日) 東京都 江東区 市場前駅(東京都), 新豊洲駅(東京都) ラムセス・ミュージアム at CREVIA BASE Tokyo ウェンジェバエンジェドの黄金のマスク 開催中 2025年1月18日(土)～7月6日(日) 東京都 千代田区 銀座駅(東京都), 有楽町駅(東京都), 日比谷駅(東京都), 銀座一丁目駅(東京都), 東銀座駅(東京都) コニカミノルタプラネタリアTOKYO 360度ゴッホの世界に包まれる 駐車場 開催中 2025年3月18日(火)～10月13日(祝) 東京都 港区 赤羽橋駅(東京都), 神谷町駅(東京都), 御成門駅(東京都), 芝公園駅(東京都), 大門駅(東京都) 東京タワー サントリーが定めた厳しい品質基準を満たした究極のハイボール「頂店ハイボール」 駐車場 開催中 2025年4月16日(水)～7月6日(日) 東京都 立川市 立川北駅(東京都), 立川駅(東京都), 高松駅(東京都), 立川南駅(東京都) PLAY! 2025年4月29日(祝)～6月30日(月) 東京都 上中里駅(東京都), 西ケ原駅(東京都), 駒込駅(東京都), 尾久駅(東京都), 梶原停留所(東京都) 2025年4月9日(水)～6月30日(月) 東京都 竹芝駅(東京都), 浜松町駅(東京都), 大門駅(東京都) 2025年4月25日(金)～6月22日(日) 東京都 銀座駅(東京都), 東銀座駅(東京都), 銀座一丁目駅(東京都), 有楽町駅(東京都), 日比谷駅(東京都) 6月 ワンコとニャンコ Walker からだにplus Walker CHECK!関東の花火大会ランキング CHECK!2025年関東で開催予定の花火大会 @chara\\\\_walker\\\\_',\n",
       "   'score': 0.7018975,\n",
       "   'raw_content': None}]}"
      ]
     },
     "execution_count": 3,
     "metadata": {},
     "output_type": "execute_result"
    }
   ],
   "source": [
    "# テスト用コード\n",
    "ret = get_search_result(\"東京駅のイベントを教えて\")\n",
    "json.loads(ret)"
   ]
  },
  {
   "cell_type": "code",
   "execution_count": 12,
   "id": "6feac154",
   "metadata": {},
   "outputs": [],
   "source": [
    "# ツール定義\n",
    "def define_tools():\n",
    "    return [\n",
    "        ChatCompletionToolParam({\n",
    "            \"type\": \"function\",\n",
    "            \"function\": {\n",
    "                \"name\": \"get_search_result\",\n",
    "                \"description\": \"指定した質問文の検索結果を取得する\",\n",
    "                \"parameters\": {\n",
    "                    \"type\": \"object\",\n",
    "                    \"properties\": {\n",
    "                        \"question\": {\"type\": \"string\", \"description\": \"質問文\"},\n",
    "                    },\n",
    "                    \"required\": [\"question\"],\n",
    "                },\n",
    "            },\n",
    "        })\n",
    "    ]"
   ]
  },
  {
   "cell_type": "code",
   "execution_count": 28,
   "id": "2595f785",
   "metadata": {},
   "outputs": [],
   "source": [
    "# APIからのレスポンスをdictに変換する関数\n",
    "def normalize_message(msg):\n",
    "    \"\"\"OpenAIのChatCompletionMessageをdictに変換\"\"\"\n",
    "    return {\n",
    "        \"role\": msg.role,\n",
    "        \"content\": msg.content,\n",
    "        \"tool_calls\": getattr(msg, \"tool_calls\", None)\n",
    "    }"
   ]
  },
  {
   "cell_type": "code",
   "execution_count": 27,
   "id": "7d24a909",
   "metadata": {},
   "outputs": [],
   "source": [
    "# 言語モデルへの質問を行う関数\n",
    "def ask_question(messages, tools):\n",
    "    response = client.chat.completions.create(\n",
    "        model=MODEL_NAME,\n",
    "        messages=messages,\n",
    "        tools=tools,\n",
    "        tool_choice=\"auto\",\n",
    "    )\n",
    "    return response"
   ]
  },
  {
   "cell_type": "code",
   "execution_count": 25,
   "id": "e79e2f07",
   "metadata": {},
   "outputs": [],
   "source": [
    "# ツール呼び出しが必要な場合の処理を行う関数\n",
    "def handle_tool_call(response, messages):\n",
    "    # 関数の実行と結果取得\n",
    "    tool = response.choices[0].message.tool_calls[0]\n",
    "    function_name = tool.function.name\n",
    "    arguments = json.loads(tool.function.arguments)\n",
    "    function_response = globals()[function_name](**arguments)\n",
    "\n",
    "    # 既存の履歴に、assistant の tool_calls発話と tool からの応答を追加して再呼び出し\n",
    "    # assistant メッセージを dict に正規化\n",
    "    assistant_message = {\n",
    "        \"role\": response.choices[0].message.role,\n",
    "        \"content\": response.choices[0].message.content,\n",
    "        \"tool_calls\": response.choices[0].message.tool_calls,\n",
    "    }\n",
    "    new_messages = messages + [\n",
    "        assistant_message,\n",
    "        {\n",
    "            \"tool_call_id\": tool.id,\n",
    "            \"role\": \"tool\",\n",
    "            \"content\": function_response,\n",
    "        },\n",
    "    ]\n",
    "\n",
    "    # 関数の実行結果をmessagesに加えて再度言語モデルを呼出\n",
    "    response_after_tool_call = client.chat.completions.create(\n",
    "        model=MODEL_NAME,\n",
    "        messages=new_messages\n",
    "    )\n",
    "    # 最終応答をdict化して返す\n",
    "    return normalize_message(response_after_tool_call.choices[0].message)\n"
   ]
  },
  {
   "cell_type": "code",
   "execution_count": 26,
   "id": "b9a78ef0",
   "metadata": {},
   "outputs": [],
   "source": [
    "# ユーザーからの質問を処理する関数\n",
    "def process_response(messages, tools):\n",
    "    if isinstance(messages, str):\n",
    "        messages = [{\"role\": \"user\", \"content\": messages}]\n",
    "\n",
    "    response = ask_question(messages, tools)\n",
    "\n",
    "    if response.choices[0].finish_reason == 'tool_calls':\n",
    "        return handle_tool_call(response, messages)\n",
    "    else:\n",
    "        return normalize_message(response.choices[0].message)"
   ]
  },
  {
   "cell_type": "code",
   "execution_count": 20,
   "id": "ae132f7e",
   "metadata": {},
   "outputs": [
    {
     "name": "stdout",
     "output_type": "stream",
     "text": [
      "東京都と沖縄県の面積を比較すると、沖縄県の方が広いです。具体的には、最新のデータによると、沖縄県の面積は約2,276.6平方キロメートルであるのに対し、東京都の面積は約2,194平方キロメートルです。このため、沖縄県が東京都よりも広いと言えます。\n"
     ]
    }
   ],
   "source": [
    "tools = define_tools()\n",
    "\n",
    "# 言語モデルが直接回答できる質問\n",
    "question = \"東京都と沖縄県はどちらが広いですか？\"\n",
    "response_message = process_response(question, tools)\n",
    "print(response_message)"
   ]
  },
  {
   "cell_type": "code",
   "execution_count": 21,
   "id": "ee7ce966",
   "metadata": {},
   "outputs": [
    {
     "name": "stdout",
     "output_type": "stream",
     "text": [
      "最近1ヶ月以内の東京駅に関連するイベント情報をいくつか紹介します。\n",
      "\n",
      "1. **KITTEイベントカレンダー**\n",
      "   - URL: [KITTEのイベントカレンダー](https://marunouchi.jp-kitte.jp/event/calendar.jsp)\n",
      "   - 内容: 東京駅近くのKITTE内で様々なイベントが行われています。詳細は公式サイトを参照してください。\n",
      "\n",
      "2. **東京都のイベント情報**\n",
      "   - URL: [東京フェスティバル](https://www.tokyofes.info/)\n",
      "   - 内容: 東京の様々な場所で行われるイベントやフェスティバルの情報が掲載されています。\n",
      "\n",
      "3. **楽しめる東京のイベント一覧**\n",
      "   - URL: [Enjoy Tokyo](https://www.enjoytokyo.jp/event/list/)\n",
      "   - 内容: 東京で開催されているイベントの一覧を幅広く紹介しています。様々なジャンルのイベントをチェックできます。\n",
      "\n",
      "4. **Walker+ - 東京のイベント情報**\n",
      "   - URL: [Walker+ 東京 フェスティバル情報](https://www.walkerplus.com/top/ar0313/)\n",
      "   - 内容: 東京でのイベント情報やおすすめのアクティビティに関する情報を提供しています。\n",
      "\n",
      "5. **東京ドームイベントスケジュール**\n",
      "   - URL: [東京ドームイベントスケジュール](https://www.tokyo-dome.co.jp/dome/event/schedule.html)\n",
      "   - 内容: 東京ドームで開催されるコンサートやイベントのスケジュールが確認できます。\n",
      "\n",
      "これらのウェブサイトを訪れることで、最新のイベント情報を得ることができますので、ぜひご確認ください。\n"
     ]
    }
   ],
   "source": [
    "tools = define_tools()\n",
    "\n",
    "# ツール呼出が必要な質問\n",
    "question = \"東京駅のイベントについて、最近1ヶ月以内の検索結果を教えてください\"\n",
    "response_message = process_response(question, tools)\n",
    "print(response_message)"
   ]
  },
  {
   "cell_type": "code",
   "execution_count": 29,
   "id": "a72c532a",
   "metadata": {},
   "outputs": [
    {
     "data": {
      "text/plain": [
       "'質問:東北6県について'"
      ]
     },
     "metadata": {},
     "output_type": "display_data"
    },
    {
     "name": "stdout",
     "output_type": "stream",
     "text": [
      "東北地方は、日本の本州北部に位置し、以下の6つの県から構成されています。\n",
      "\n",
      "1. **青森県** - 県都は青森市で、新鮮な海産物やりんごが特産です。\n",
      "2. **岩手県** - 県都は盛岡市で、自然豊かな地域が多く、文化遺産や温泉が点在します。\n",
      "3. **宮城県** - 県都は仙台市で、東北の経済・文化の中心地として知られています。\n",
      "4. **秋田県** - 県都は秋田市で、秋田美人や秋田犬が有名です。\n",
      "5. **山形県** - 県都は山形市で、さくらんぼや米沢牛が特産です。\n",
      "6. **福島県** - 県都は福島市で、観光地や温泉が数多くあります。\n",
      "\n",
      "これらの県は、太平洋側に面した地域であり、独自の文化、自然、おいしい食べ物などが魅力とされています。冬は雪が多く、スキーや温泉が楽しめる場所としても人気があります。\n",
      "\n",
      "詳しい情報は、以下のリンクからご覧いただけます：\n",
      "- [東北地方 - Wikipedia](https://ja.wikipedia.org/wiki/%E6%9D%B1%E5%8C%97%E5%9C%B0%E6%96%B9) \n",
      "- [日本の観光メディアMATCHAの情報](https://matcha-jp.com/jp/1555) \n",
      "- [地域情報サイトROKKON](https://rokkkkkkon.jp/) \n",
      "\n",
      "興味のある具体的な事柄についてお知らせいただければ、さらに詳細な情報をご提供いたします。\n"
     ]
    },
    {
     "data": {
      "text/plain": [
       "'質問:山形県のおすすめのお土産を検索してほしい'"
      ]
     },
     "metadata": {},
     "output_type": "display_data"
    },
    {
     "name": "stdout",
     "output_type": "stream",
     "text": [
      "山形県のおすすめのお土産はいくつかあり、以下にいくつかの選択肢を紹介します。\n",
      "\n",
      "1. **さくらんぼ**: 山形県はさくらんぼの産地として知られています。特に\"佐藤錦\"は非常に人気があります。\n",
      "\n",
      "2. **山形の米**: 山形は米どころでもあり、特に「つや姫」と「はえぬき」が有名です。新鮮なお米を土産にできるのが魅力です。\n",
      "\n",
      "3. **蔵王のチーズ**: 蔵王産のチーズは、豊かな風味とクリーミーさが特徴で、食べ応えがあります。\n",
      "\n",
      "4. **山形の漬物**: しば漬けやらっきょう漬けなど、地元の伝統的な漬物も人気があります。\n",
      "\n",
      "5. **米沢牛**: 高級和牛である米沢牛は、山形の特産品として有名です。冷凍肉をお土産に持って帰ることも可能です。\n",
      "\n",
      "6. **山形名物のどぶろく**: 地元の酒蔵が作るどぶろくは、ユニークな風味が楽しめるお酒です。\n",
      "\n",
      "詳しいお土産の情報やランキングについては、以下のリンクをご参照ください：\n",
      "\n",
      "- [山形のお土産ランキングの記事](https://www.jalan.net/news/article/95650/)  \n",
      "- [お土産のリスト](https://shonai-nandemoya.net/item-list?categoryId=36125)  \n",
      "- [さらに多くのお土産の情報](https://sakidori.co/article/1319845)\n",
      "\n",
      "これらの情報を参考に、山形県を訪れた際のお土産選びを楽しんでください！\n"
     ]
    },
    {
     "data": {
      "text/plain": [
       "'質問:イチオシはどれ？'"
      ]
     },
     "metadata": {},
     "output_type": "display_data"
    },
    {
     "name": "stdout",
     "output_type": "stream",
     "text": [
      "山形県のイチオシのお土産は以下の3つです。\n",
      "\n",
      "1. **さくらんぼ**（特に佐藤錦）\n",
      "   - 山形県は日本有数のさくらんぼの産地で、美味しい果物として人気があります。特に「佐藤錦」は甘さと酸味のバランスが良く、贈り物にも最適です。\n",
      "\n",
      "2. **米沢牛**\n",
      "   - 高級和牛として有名な米沢牛は、柔らかく、風味豊かな肉質が特徴です。お土産に冷凍肉を持ち帰ることもできますので、特別な贈り物にぴったりです。\n",
      "\n",
      "3. **だだちゃ豆**\n",
      "   - 山形の特産品である「だだちゃ豆」は、甘味が強く、鮮やかな緑色が特徴です。冷凍されて販売されることが多く、手軽に持ち帰ることができます。\n",
      "\n",
      "これらのお土産は、山形の風土や文化を感じられるものばかりです。特にさくらんぼは季節限定のため、訪問時期に注意が必要ですが、旬の味を楽しむにはおすすめです。\n",
      "\n",
      "詳しい情報は、以下のリンクを参考にしてください：\n",
      "- [山形県のお土産まとめ](https://www.jalan.net/news/article/95650/) \n",
      "- [山形のお土産一覧](https://sakidori.co/article/1319845) \n",
      "\n",
      "ぜひ、山形の魅力を感じるお土産選びに役立ててください！\n",
      "\n",
      "---ご利用ありがとうございました！---\n"
     ]
    }
   ],
   "source": [
    "# チャットボットへの組み込み\n",
    "tools = define_tools()\n",
    "\n",
    "messages=[]\n",
    "\n",
    "while(True):\n",
    "    # ユーザーからの質問を受付\n",
    "    question = input(\"メッセージを入力:\")\n",
    "    # 質問が入力されなければ終了\n",
    "    if question.strip()==\"\":\n",
    "        break\n",
    "    display(f\"質問:{question}\")\n",
    "\n",
    "    # メッセージにユーザーからの質問を追加\n",
    "    messages.append({\"role\": \"user\", \"content\": question.strip()})\n",
    "    # やりとりが8を超えたら古いメッセージから削除\n",
    "    if len(messages) > 8:\n",
    "        del_message = messages.pop(0)\n",
    "\n",
    "    # 言語モデルに質問\n",
    "    response_message = process_response(messages, tools)\n",
    "\n",
    "    # メッセージに言語モデルからの回答を追加\n",
    "    print(response_message[\"content\"], flush=True)\n",
    "    messages.append(response_message)\n",
    "\n",
    "print(\"\\n---ご利用ありがとうございました！---\")"
   ]
  }
 ],
 "metadata": {
  "kernelspec": {
   "display_name": ".venv",
   "language": "python",
   "name": "python3"
  },
  "language_info": {
   "codemirror_mode": {
    "name": "ipython",
    "version": 3
   },
   "file_extension": ".py",
   "mimetype": "text/x-python",
   "name": "python",
   "nbconvert_exporter": "python",
   "pygments_lexer": "ipython3",
   "version": "3.12.10"
  }
 },
 "nbformat": 4,
 "nbformat_minor": 5
}
