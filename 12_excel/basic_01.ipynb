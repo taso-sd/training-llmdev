{
 "cells": [
  {
   "cell_type": "code",
   "execution_count": 1,
   "id": "0d5ef719",
   "metadata": {},
   "outputs": [],
   "source": [
    "# 必要なモジュールをインポート\n",
    "import os\n",
    "from dotenv import load_dotenv\n",
    "from openai import OpenAI\n",
    "import pandas as pd\n",
    "\n",
    "# 環境変数の取得\n",
    "load_dotenv()\n",
    "\n",
    "# OpenAI APIクライアントを生成\n",
    "client = OpenAI(api_key=os.environ['API_KEY'])\n",
    "\n",
    "# モデル名\n",
    "MODEL_NAME = \"gpt-4o-mini\""
   ]
  },
  {
   "cell_type": "code",
   "execution_count": 2,
   "id": "8480b82c",
   "metadata": {},
   "outputs": [
    {
     "name": "stdout",
     "output_type": "stream",
     "text": [
      "売上データ:\n",
      "    カテゴリー 商品コード      商品名         売上日    単価   数量    原価\n",
      "0      食品  1001      りんご  2023-01-01   200   50   120\n",
      "1      食品  1002      バナナ  2023-01-01   150  100    80\n",
      "2      食品  1003       牛乳  2023-01-02   180   80   100\n",
      "3      衣服  2001     Tシャツ  2023-01-02  1500   20   800\n",
      "4      衣服  2002     ジーンズ  2023-01-03  5000   10  2500\n",
      "..    ...   ...      ...         ...   ...  ...   ...\n",
      "235    衣服  2077   レインパンツ  2023-04-28  2000   18  1000\n",
      "236    食品  1085      ザクロ  2023-04-29   600   40   300\n",
      "237   日用品  3077    バスブラシ  2023-04-29   400   60   200\n",
      "238    衣服  2078  レインシューズ  2023-04-30  2500   15  1250\n",
      "239    食品  1086    ココナッツ  2023-04-30   300   80   150\n",
      "\n",
      "[240 rows x 7 columns]\n",
      "この売上データの傾向を分析してください。\n"
     ]
    }
   ],
   "source": [
    "# 1. Excelファイルを読み込む\n",
    "df = pd.read_excel('サンプルデータ.xlsx', sheet_name='売上データ')\n",
    "# データフレームを表示して確認\n",
    "df.head()\n",
    "\n",
    "# 2. データをLLM用にテキスト形式に変換\n",
    "# データフレーム全体を文字列に変換\n",
    "sales_data_text = df.astype(str)\n",
    "prompt_text = f\"売上データ:\\n{sales_data_text}\\nこの売上データの傾向を分析してください。\"\n",
    "# 表示して確認\n",
    "print(prompt_text)"
   ]
  },
  {
   "cell_type": "code",
   "execution_count": 3,
   "id": "b6429d0e",
   "metadata": {},
   "outputs": [
    {
     "name": "stdout",
     "output_type": "stream",
     "text": [
      "この売上データに基づいて、いくつかの重要な傾向やインサイトを分析してみます。\n",
      "\n",
      "### 1. カテゴリー別の売上分析\n",
      "- **食品、衣服、日用品**の3つのカテゴリーがあります。それぞれのカテゴリー別に総売上や平均単価、利益率などを算出し、どのカテゴリーが最も強力かを把握しましょう。\n",
      "- 例: `食品`の売上の合計、数量、平均単価を算出し、次に`衣服`、`日用品`と比較。\n",
      "\n",
      "### 2. 利益率の分析\n",
      "- 利益は `(単価 - 原価) × 数量` で算出できます。これを用いて、各商品やカテゴリーの利益率を計算しましょう。\n",
      "- 高い利益率を持つ商品やカテゴリーを特定し、それに基づいてプロモーションや在庫戦略を見直します。\n",
      "\n",
      "### 3. 売上の時間的なトレンド\n",
      "- 売上日ごとの売上動向を視覚化し、特定の繁忙期や閑散期を特定します。時間に対する平均売上や累積売上のトレンドを示すグラフを作成することが有効です。\n",
      "\n",
      "### 4. 人気商品と売上の集中\n",
      "- 各商品コード（SKU）ごとの売上を集計し、トップセラーを特定します。また、売上が特定の少数の商品に集中している場合、それによるリスクを考慮し、商品ラインナップの多様化について議論することが重要です。\n",
      "\n",
      "### 5. プロモーション効果の分析\n",
      "- 特定の日に行ったプロモーションやキャンペーンの成果を分析し、売上データに顕著な変化が見られた場合、そのプロモーションの効果を評価します。\n",
      "\n",
      "### 6. 顧客セグメンテーション\n",
      "- 利用可能であれば、顧客情報を用いて、どの顧客セグメントがどのカテゴリーや商品を好む傾向にあるのかを分析することで、ターゲティングやパーソナライズプランを作成します。\n",
      "\n",
      "### 7. 在庫管理\n",
      "- 売上データに基づいて、各商品の売れ行きに応じた在庫管理戦略を見直す必要があります。需要が高い期間に対して在庫が不足しないよう、また処分すべき在庫を特定し、必要に応じて割引戦略を採用します。\n",
      "\n",
      "これらの分析を通じて、企業は在庫管理、プロモーション戦略、製品開発の計画におけるデータ駆動型の意思決定が可能になります。さらに詳細な洞察や具体的な数値を得るために、実際のデータをもとにしたさらなる解析が望まれます。\n"
     ]
    }
   ],
   "source": [
    "# 3. OpenAI APIの呼び出し\n",
    "\n",
    "# 役割を設定\n",
    "role = \"あなたはマーケティング分野に精通したデータサイエンティストです。企業の成長をサポートするために、効果的なインサイトを提供します。\"\n",
    "\n",
    "# APIへリクエスト\n",
    "response = client.chat.completions.create(\n",
    "    model=MODEL_NAME,\n",
    "    messages=[\n",
    "        {\"role\": \"system\", \"content\": role},\n",
    "        {\"role\": \"user\", \"content\": prompt_text},\n",
    "    ],\n",
    ")\n",
    "\n",
    "# LLMからの回答を表示\n",
    "print(response.choices[0].message.content.strip())"
   ]
  },
  {
   "cell_type": "code",
   "execution_count": 4,
   "id": "7275ad4a",
   "metadata": {},
   "outputs": [
    {
     "name": "stdout",
     "output_type": "stream",
     "text": [
      "                                                   結果\n",
      "0              この売上データに基づいて、いくつかの重要な傾向やインサイトを分析してみます。\n",
      "1                                                    \n",
      "2                                  ### 1. カテゴリー別の売上分析\n",
      "3   - **食品、衣服、日用品**の3つのカテゴリーがあります。それぞれのカテゴリー別に総売上や...\n",
      "4        - 例: `食品`の売上の合計、数量、平均単価を算出し、次に`衣服`、`日用品`と比較。\n",
      "5                                                    \n",
      "6                                       ### 2. 利益率の分析\n",
      "7   - 利益は `(単価 - 原価) × 数量` で算出できます。これを用いて、各商品やカテゴリ...\n",
      "8   - 高い利益率を持つ商品やカテゴリーを特定し、それに基づいてプロモーションや在庫戦略を見直します。\n",
      "9                                                    \n",
      "10                                 ### 3. 売上の時間的なトレンド\n",
      "11  - 売上日ごとの売上動向を視覚化し、特定の繁忙期や閑散期を特定します。時間に対する平均売上や...\n",
      "12                                                   \n",
      "13                                  ### 4. 人気商品と売上の集中\n",
      "14  - 各商品コード（SKU）ごとの売上を集計し、トップセラーを特定します。また、売上が特定の少...\n",
      "15                                                   \n",
      "16                                ### 5. プロモーション効果の分析\n",
      "17  - 特定の日に行ったプロモーションやキャンペーンの成果を分析し、売上データに顕著な変化が見ら...\n",
      "18                                                   \n",
      "19                                 ### 6. 顧客セグメンテーション\n",
      "20  - 利用可能であれば、顧客情報を用いて、どの顧客セグメントがどのカテゴリーや商品を好む傾向に...\n",
      "21                                                   \n",
      "22                                        ### 7. 在庫管理\n",
      "23  - 売上データに基づいて、各商品の売れ行きに応じた在庫管理戦略を見直す必要があります。需要が...\n",
      "24                                                   \n",
      "25  これらの分析を通じて、企業は在庫管理、プロモーション戦略、製品開発の計画におけるデータ駆動型...\n"
     ]
    }
   ],
   "source": [
    "# 4. 分析結果をデータフレームに変換\n",
    "result_list = response.choices[0].message.content.strip().split(\"\\n\")\n",
    "df_out = pd.DataFrame(result_list, columns=['結果'])\n",
    "print(df_out)"
   ]
  },
  {
   "cell_type": "code",
   "execution_count": 5,
   "id": "d397a82a",
   "metadata": {},
   "outputs": [],
   "source": [
    "# 5. 結果をExcelファイルに保存\n",
    "df_out.to_excel(\"売上データ分析結果.xlsx\", index=False)"
   ]
  },
  {
   "cell_type": "code",
   "execution_count": 6,
   "id": "fd26233a",
   "metadata": {},
   "outputs": [
    {
     "name": "stdout",
     "output_type": "stream",
     "text": [
      "処理を開始します。\n",
      "Excelファイルに分析結果を保存しました。\n"
     ]
    }
   ],
   "source": [
    "# ワークフロー化\n",
    "print(\"処理を開始します。\")\n",
    "\n",
    "# 1. Excelファイルを読み込む\n",
    "df = pd.read_excel('サンプルデータ.xlsx', sheet_name='売上データ')\n",
    "\n",
    "# 2. データをLLM用にテキスト形式に変換\n",
    "sales_data_text = df.astype(str)\n",
    "prompt_text = f\"売上データ:\\n{sales_data_text}\\nこの売上データの傾向を分析してください。\"\n",
    "\n",
    "# 3. OpenAI APIの呼び出し\n",
    "# 役割を設定\n",
    "role = \"あなたはマーケティング分野に精通したデータサイエンティストです。企業の成長をサポートするために、効果的なインサイトを提供します。\"\n",
    "# APIへリクエスト\n",
    "response = client.chat.completions.create(\n",
    "    model=MODEL_NAME,\n",
    "    messages=[\n",
    "        {\"role\": \"system\", \"content\": role},\n",
    "        {\"role\": \"user\", \"content\": prompt_text},\n",
    "    ],\n",
    ")\n",
    "\n",
    "# 4. 分析結果をデータフレームに変換\n",
    "result_list = response.choices[0].message.content.strip().split(\"\\n\")\n",
    "df_out = pd.DataFrame(result_list, columns=['結果'])\n",
    "\n",
    "# 5. 結果をExcelファイルに保存\n",
    "df_out.to_excel(\"売上データ分析結果.xlsx\", index=False)\n",
    "\n",
    "print(\"Excelファイルに分析結果を保存しました。\")\n"
   ]
  }
 ],
 "metadata": {
  "kernelspec": {
   "display_name": ".venv",
   "language": "python",
   "name": "python3"
  },
  "language_info": {
   "codemirror_mode": {
    "name": "ipython",
    "version": 3
   },
   "file_extension": ".py",
   "mimetype": "text/x-python",
   "name": "python",
   "nbconvert_exporter": "python",
   "pygments_lexer": "ipython3",
   "version": "3.12.10"
  }
 },
 "nbformat": 4,
 "nbformat_minor": 5
}
